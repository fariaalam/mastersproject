{
 "cells": [
  {
   "cell_type": "code",
   "execution_count": 1,
   "id": "33e45fd3",
   "metadata": {},
   "outputs": [],
   "source": [
    "import pandas as pd\n",
    "import numpy as np\n",
    "import math\n",
    "import matplotlib.pyplot as plt\n",
    "import matplotlib.image as mpimg\n",
    "from PIL import Image\n",
    "import numpy as np\n",
    "import seaborn as sns"
   ]
  },
  {
   "cell_type": "code",
   "execution_count": 2,
   "id": "40d476cf",
   "metadata": {},
   "outputs": [],
   "source": [
    "# CONSTANTS\n",
    "DISPSIZE = (2560, 1440) # Display Resolution\n",
    "DISPSIZE = (1280, 990) # Display Resolution\n",
    "MAXIMAL_DISTANCE = 25 # Eucledian Distance Fixation Calculation (Dispersion)\n",
    "MINIMAL_DURATION = 50 # Minimal duration to be considered a fixation in milliseconds (typically 50 - 200)\n",
    "\n",
    "def prepare_raw_data(gazeData, dataset):\n",
    "    if gazeData.empty:\n",
    "        print(\"Warning: gazeData is empty. Skipping processing.\")\n",
    "        return\n",
    "\n",
    "    #gazeData = filter_valid_entries(gazeData)\n",
    "    #gazeData = get_xy_coordinates(gazeData)\n",
    "    gazeData = compute_mean_gaze_point(gazeData)\n",
    "    gazeData = filterOffDisplayValues(gazeData)\n",
    "    timestamps = getTimestampsInMilliseconds(gazeData)\n",
    "    time = pd.Series(timestamps)\n",
    "    gazeData = gazeData.assign(Timestamp=time.values)\n",
    "    gazeData.reset_index()\n",
    "\n",
    "    x_gazePoints, width = getXGazePointsAsPixel(gazeData)\n",
    "    y_gazePoints, height = getYGazePointsAsPixel(gazeData)\n",
    "    s = pd.Series(x_gazePoints)\n",
    "    t = pd.Series(y_gazePoints)\n",
    "    gazeData = gazeData.assign(PixelPointX=s.values)\n",
    "    gazeData = gazeData.assign(PixelPointY=t.values)\n",
    "    gazeData = remove_noise_df(gazeData)\n",
    "    gazeData = calculate_isd(gazeData)\n",
    "    gazeData = add_velocity_df(gazeData)\n",
    "\n",
    "    gazeData.to_csv(dataset, index=False, na_rep='NaN')\n",
    "\n",
    "def get_xy_coordinates(dataframe):\n",
    "    def process_cell(cell_value):\n",
    "        cell_value = cell_value.strip('()')  \n",
    "        values = cell_value.split(',')  \n",
    "        return [float(value) for value in values]  \n",
    "        \n",
    "    dataframe['left_gaze_point_on_display_area'] = dataframe['left_gaze_point_on_display_area'].apply(process_cell)\n",
    "    dataframe['left_gaze_point_x'] = dataframe['left_gaze_point_on_display_area'].apply(lambda x: x[0])\n",
    "    dataframe['left_gaze_point_y'] = dataframe['left_gaze_point_on_display_area'].apply(lambda x: x[1])\n",
    "        \n",
    "    dataframe['right_gaze_point_on_display_area'] = dataframe['right_gaze_point_on_display_area'].apply(process_cell)\n",
    "\n",
    "    dataframe['right_gaze_point_x'] = dataframe['right_gaze_point_on_display_area'].apply(lambda x: x[0])\n",
    "    dataframe['right_gaze_point_y'] = dataframe['right_gaze_point_on_display_area'].apply(lambda x: x[1])\n",
    "\n",
    "    return dataframe\n",
    "\n",
    "def event_detecting_smoothing(csv_file):\n",
    "    event_df = pd.read_csv(csv_file)\n",
    "    if event_df.empty:\n",
    "        print(\"Warning: event_df is empty. Skipping processing.\")\n",
    "        return\n",
    "    else:\n",
    "        gazeData = mark_events_saccade_blink_noise(csv_file)\n",
    "        gazeData = smooth_gaze_data(gazeData)\n",
    "        gazeData.to_csv(csv_file, index=False, na_rep='NaN')\n",
    "\n",
    "def get_fixations(csv_file):\n",
    "    gazeData = pd.read_csv(csv_file)\n",
    "    timestamps = getTimestampsInMilliseconds(gazeData)\n",
    "    x_gazePoints = gazeData.SmoothPixelPointX\n",
    "    y_gazePoints = gazeData.SmoothPixelPointY\n",
    "    fixations_all_data = FilterDataWithFixations_weighted_mean(x_gazePoints, y_gazePoints, timestamps, mindur=50)\n",
    "    fixations = []\n",
    "    for fixation_data in fixations_all_data:\n",
    "        start_time, end_time, duration, mean_x, mean_y, _ = fixation_data  # Ignore fixation points\n",
    "        fixations.append([start_time, end_time, duration, mean_x, mean_y])\n",
    "    return fixations\n",
    "\n",
    "\n",
    "\n",
    "''' Fixation Algorithm'''\n",
    "\n",
    "class Point:\n",
    "    def __init__(self, x, y):\n",
    "        self.x = x\n",
    "        self.y = y\n",
    "\n",
    "\n",
    "def calculate_distance(point1, point2):\n",
    "    # Calculate the Euclidean distance between two points\n",
    "    return ((point1.x - point2.x) ** 2 + (point1.y - point2.y) ** 2) ** 0.5\n",
    "\n",
    "def calculate_weighted_mean(points):\n",
    "    # Calculate the weighted mean of a list of points\n",
    "    n = len(points)\n",
    "    weighted_x_sum = sum((i + 1) * point.x for i, point in enumerate(points))\n",
    "    weighted_y_sum = sum((i + 1) * point.y for i, point in enumerate(points))\n",
    "    total_weight = (n * (n + 1)) / 2  # Sum of weights from 1 to n\n",
    "\n",
    "    if total_weight == 0:\n",
    "        return None  # Avoid division by zero\n",
    "\n",
    "    mean_x = weighted_x_sum / total_weight\n",
    "    mean_y = weighted_y_sum / total_weight\n",
    "\n",
    "    return Point(mean_x, mean_y)\n",
    "\n",
    "def FilterDataWithFixations_weighted_mean(x, y, time, saccade_threshold=MAXIMAL_DISTANCE, maxdist=MAXIMAL_DISTANCE, mindur=MINIMAL_DURATION):\n",
    "    fixations = []\n",
    "\n",
    "    current_fixation = []\n",
    "\n",
    "    for i in range(len(x)):\n",
    "        current_point = Point(x[i], y[i])\n",
    "\n",
    "        if not current_fixation:\n",
    "            current_fixation.append(current_point)\n",
    "            continue\n",
    "\n",
    "        last_fixation_point = current_fixation[-1]\n",
    "        distance_to_current = calculate_distance(current_point, last_fixation_point)\n",
    "\n",
    "        if distance_to_current < saccade_threshold:\n",
    "            current_fixation.append(current_point)\n",
    "        else:\n",
    "            if current_fixation:\n",
    "                # Check if the current fixation is valid (meets duration criteria)\n",
    "                start_time = time[i - len(current_fixation)]\n",
    "                end_time = time[i - 1]\n",
    "                duration = end_time - start_time\n",
    "                if duration >= mindur:\n",
    "                    weighted_mean = calculate_weighted_mean(current_fixation)\n",
    "                    if weighted_mean is not None:\n",
    "                        fixations.append([start_time, end_time, duration, weighted_mean.x, weighted_mean.y, current_fixation])\n",
    "                current_fixation = []\n",
    "\n",
    "    # Check if there's any remaining fixation\n",
    "    if current_fixation:\n",
    "        start_time = time[len(x) - len(current_fixation)]\n",
    "        end_time = time[-1]\n",
    "        duration = end_time - start_time\n",
    "        if duration >= mindur:\n",
    "            weighted_mean = calculate_weighted_mean(current_fixation)\n",
    "            if weighted_mean is not None:\n",
    "                fixations.append([start_time, end_time, duration, weighted_mean.x, weighted_mean.y, current_fixation])\n",
    "\n",
    "    return fixations\n",
    "\n",
    "\n",
    "''' Helper Functions'''\n",
    "\n",
    "# Monoccular\n",
    "def filter_valid_entries(dataframe):\n",
    "    valid_rows = dataframe[(dataframe['left_gaze_point_validity'] == 1) | (dataframe['right_gaze_point_validity'] == 1)]\n",
    "    return valid_rows\n",
    "\n",
    "\n",
    "def compute_mean_gaze_point(dataframe):\n",
    "    actualGazePointX = []\n",
    "    actualGazePointY = []\n",
    "\n",
    "    for index, row in dataframe.iterrows():\n",
    "        leftX = row['left_gaze_point_x']\n",
    "        leftY = row['left_gaze_point_y']\n",
    "        rightX = row['right_gaze_point_x']\n",
    "        rightY = row['right_gaze_point_y']\n",
    "\n",
    "        if not np.isnan(leftX) and not np.isnan(leftY) and not np.isnan(rightX) and not np.isnan(rightY):\n",
    "            actualX = (leftX + rightX) / 2\n",
    "            actualY = (leftY + rightY) / 2\n",
    "        elif np.isnan(leftX) and np.isnan(leftY):\n",
    "            actualX = rightX\n",
    "            actualY = rightY\n",
    "        elif np.isnan(rightX) and np.isnan(rightY):\n",
    "            actualX = leftX\n",
    "            actualY = leftY\n",
    "\n",
    "        actualGazePointX.append(actualX)\n",
    "        actualGazePointY.append(actualY)\n",
    "\n",
    "    s = pd.Series(actualGazePointX)\n",
    "    t = pd.Series(actualGazePointY)\n",
    "    dataframe = dataframe.assign(ActualGazePointX=s.values)\n",
    "    dataframe = dataframe.assign(ActualGazePointY=t.values)\n",
    "    return dataframe\n",
    "\n",
    "\n",
    "#Remove all off Display values\n",
    "def filterOffDisplayValues(dataframe):\n",
    "\n",
    "    inboundAll = dataframe[dataframe['ActualGazePointX'] <= 1]\n",
    "    inboundAll = inboundAll[inboundAll['ActualGazePointX'] >= 0]\n",
    "\n",
    "    inboundAll = inboundAll[inboundAll['ActualGazePointY'] <= 1]\n",
    "    inboundAll = inboundAll[inboundAll['ActualGazePointY'] >= 0]\n",
    "\n",
    "    return inboundAll\n",
    "\n",
    "\n",
    "def getTimestampsInMilliseconds(dataframe):\n",
    "    time = dataframe[\"timestamp_system\"]\n",
    "    # time = dataframe.Timestamp\n",
    "    time.reset_index(drop=True, inplace=True)\n",
    "    t_temp = []\n",
    "\n",
    "    if not time.empty:\n",
    "        initalTime = time.iloc[0] / 1000\n",
    "        for t in time:\n",
    "            t_temp.append(t / 1000 - initalTime)\n",
    "    else:\n",
    "        print(\"Warning: time Series is empty. Returning an empty list.\")\n",
    "\n",
    "    return t_temp\n",
    "\n",
    "def getXGazePointsAsPixel(dataframe):\n",
    "    # user32 = ctypes.windll.user32\n",
    "    # width = user32.GetSystemMetrics(0)\n",
    "    # print(width)\n",
    "    width = DISPSIZE[0]\n",
    "    # width =  2560 #2048 #412\n",
    "    x_temp = []\n",
    "    actualX = dataframe['ActualGazePointX']\n",
    "    for x in actualX[0:]:\n",
    "        x_temp.append(round(x*width))\n",
    "        # x_temp.append(x * width)\n",
    "    return x_temp, width\n",
    "\n",
    "\n",
    "def getYGazePointsAsPixel(dataframe):\n",
    "    # user32 = ctypes.windll.user32\n",
    "    # height = user32.GetSystemMetrics(1)\n",
    "    # print(height)\n",
    "    height = DISPSIZE[1]\n",
    "    # height = 1440 #1152 #1440 #915\n",
    "    y_temp = []\n",
    "    actualY = dataframe['ActualGazePointY']\n",
    "    for y in actualY[0:]:\n",
    "        y_temp.append(round(y*height))\n",
    "        # y_temp.append(y * height)\n",
    "    return y_temp, height\n",
    "\n",
    "\n",
    "def calculate_isd(df):\n",
    "    df['InterSampleDuration_DS'] = df[\"timestamp_system\"].diff().fillna(0) / 1000\n",
    "    return df\n",
    "\n",
    "def remove_noise_df(dataframe):\n",
    "    gazePointX = dataframe['PixelPointX'].tolist()\n",
    "    gazePointY = dataframe['PixelPointY'].tolist()\n",
    "    # threshold = 0.97 degrees X; 1.17 degrees Y on a 2560x1440 disp at 60cm-65cm distance\n",
    "    noNoiseGazePointX = replace_outliers_with_median(gazePointX, threshold=50)\n",
    "    noNoiseGazePointY = replace_outliers_with_median(gazePointY, threshold=60)\n",
    "\n",
    "    dataframe['PixelPointX'] = noNoiseGazePointX\n",
    "    dataframe['PixelPointY'] = noNoiseGazePointY\n",
    "\n",
    "    return dataframe\n",
    "\n",
    "def replace_outliers_with_median(points, threshold, window_size=3):\n",
    "    num_points = len(points)\n",
    "    new_points = []\n",
    "\n",
    "    for i in range(len(points)):\n",
    "        if i < window_size or i >= num_points - window_size:\n",
    "            # not enough points\n",
    "            new_points.append(points[i])\n",
    "        else:\n",
    "            # Euclidean to points within the +2 and -2 window\n",
    "            distances = []\n",
    "            for j in range(i - window_size, i + window_size + 1):\n",
    "                distance = np.linalg.norm(points[i] - points[j])\n",
    "                distances.append(distance)\n",
    "\n",
    "            # distance greater than the threshold -->  outlier\n",
    "            if np.mean(distances) > threshold:\n",
    "                # Replace the outlier point with the median of the points within the window\n",
    "                median_point = np.median([points[j] for j in range(i - window_size, i + window_size + 1) if j != i],\n",
    "                                         axis=0)\n",
    "                new_points.append(median_point)\n",
    "\n",
    "            else:\n",
    "                new_points.append(points[i])\n",
    "\n",
    "    return new_points\n",
    "\n",
    "def add_velocity_df(gazeData, sampling_frequency=250):\n",
    "    # timestamps = gazeData.Timestamp\n",
    "    timestamps = getTimestampsInMilliseconds(gazeData)\n",
    "    x_gazePoints = gazeData.PixelPointX\n",
    "    y_gazePoints = gazeData.PixelPointY\n",
    "    velocity = calculate_velocity(x_gazePoints, y_gazePoints, timestamps, sampling_frequency)\n",
    "    # print(len(velocity), len(gazeData))\n",
    "    if len(velocity) == len(gazeData) - 1:\n",
    "        velocity = np.insert(velocity, 0, 0)\n",
    "    elif len(velocity) == len(gazeData):\n",
    "        velocity = velocity\n",
    "        # s = pd.Series(velocity)\n",
    "        # gazeData = gazeData.assign(Velocity=s.values)\n",
    "    gazeData['Velocity'] = velocity\n",
    "\n",
    "    return gazeData\n",
    "\n",
    "def calculate_velocity(x, y, timestamps, sampling_frequency=250):\n",
    "    time_intervals = np.diff(timestamps) / 1000  # Convert milliseconds to seconds\n",
    "\n",
    "    if np.any(time_intervals == 0):\n",
    "        print(\"Warning: Velocity calculation forced.\")\n",
    "        # force replace zero time intervals with 4ms because ET error, should be changed for different sampliong\n",
    "        time_intervals[time_intervals == 0] = 4\n",
    "\n",
    "    velocity = np.sqrt(np.diff(x)**2 + np.diff(y)**2) / (time_intervals * sampling_frequency)\n",
    "    velocity = np.insert(velocity, 0, 0)\n",
    "\n",
    "    return velocity\n",
    "\n",
    "\n",
    "def mark_events_saccade_blink_noise(csv_file):\n",
    "    event_df = pd.read_csv(csv_file)\n",
    "    if event_df.empty:\n",
    "        print(\"Warning: gazeData is empty. Skipping processing.\")\n",
    "        return\n",
    "\n",
    "    else:\n",
    "        event_df['Event_Type'] = 'Unknown'\n",
    "\n",
    "        saccade_start = False\n",
    "        saccade_end = False\n",
    "\n",
    "        for i in range(len(event_df)):\n",
    "            if i < 0:\n",
    "                continue\n",
    "\n",
    "            inter_sample_duration = event_df.at[i, 'InterSampleDuration_DS']\n",
    "            velocity = event_df.at[i, 'Velocity']\n",
    "\n",
    "            if 99 < inter_sample_duration < 200:\n",
    "                event_df.at[i, 'Event_Type'] = 'Blink_End'\n",
    "            elif inter_sample_duration > 200:\n",
    "                event_df.at[i, 'Event_Type'] = 'Noise_End'\n",
    "            else:\n",
    "                if velocity > 30 and not saccade_start:\n",
    "                    event_df.at[i, 'Event_Type'] = 'Saccade_Start'\n",
    "                    saccade_start = True\n",
    "                    saccade_end = False\n",
    "\n",
    "                    # Check if the next row exists\n",
    "                    if i + 1 < len(event_df):\n",
    "                        i = i + 1\n",
    "\n",
    "                if saccade_start and i + 1 < len(event_df) and event_df.at[i + 1, 'Velocity'] <= 30 and not saccade_end:\n",
    "                    event_df.at[i-1, 'Event_Type'] = 'Saccade_End'\n",
    "                    saccade_start = False\n",
    "                    saccade_end = True\n",
    "\n",
    "                if saccade_start and not saccade_end:\n",
    "                    event_df.at[i, 'Event_Type'] = 'Saccade'\n",
    "\n",
    "        for i in range(len(event_df)):\n",
    "            if i == 0:\n",
    "                continue\n",
    "            if event_df.at[i, 'Event_Type'] == 'Saccade_End' and event_df.at[i - 1, 'Event_Type'] == 'Saccade_Start':\n",
    "                event_df.at[i, 'Event_Type'] = 'Noise'\n",
    "                event_df.at[i - 1, 'Event_Type'] = 'Noise'\n",
    "            if event_df.at[i, 'Event_Type'] == 'Saccade_End' and event_df.at[i - 1, 'Event_Type'] != 'Saccade':\n",
    "                event_df.at[i, 'Event_Type'] = 'Noise'\n",
    "\n",
    "        return event_df\n",
    "\n",
    "\n",
    "\n",
    "def smooth_gaze_data(dataframe):\n",
    "    if dataframe.empty:\n",
    "        print(\"Warning: gazeData is empty. Skipping processing.\")\n",
    "        return\n",
    "\n",
    "    gazePointX = dataframe['PixelPointX'].tolist()\n",
    "    gazePointY = dataframe['PixelPointY'].tolist()\n",
    "    eventType = dataframe['Event_Type']\n",
    "\n",
    "    window_start = 0\n",
    "    i = 0\n",
    "\n",
    "    while i < len(dataframe):\n",
    "        if eventType[i] == 'Saccade_Start':\n",
    "            window_end = i - 1\n",
    "            if window_start <= window_end:\n",
    "\n",
    "                noNoiseGazePointX = apply_filter(gazePointX[window_start:window_end + 1])\n",
    "                noNoiseGazePointY = apply_filter(gazePointY[window_start:window_end + 1])\n",
    "\n",
    "                j = i + 1\n",
    "                while j < len(dataframe) and eventType[j] != 'Saccade_End':\n",
    "                    j += 1\n",
    "\n",
    "                gazePointX[window_start:window_end+1] = noNoiseGazePointX\n",
    "                gazePointY[window_start:window_end+1] = noNoiseGazePointY\n",
    "\n",
    "                window_start = j - 1 # Early Onset of Filtering to avoid problem stated at func start\n",
    "\n",
    "            i = window_start\n",
    "        else:\n",
    "            i += 1\n",
    "\n",
    "    if window_start < len(dataframe):\n",
    "        noNoiseGazePointX = apply_filter(gazePointX[window_start:])\n",
    "        noNoiseGazePointY = apply_filter(gazePointY[window_start:])\n",
    "        gazePointX[window_start:] = noNoiseGazePointX\n",
    "        gazePointY[window_start:] = noNoiseGazePointY\n",
    "\n",
    "    dataframe['SmoothPixelPointX'] = gazePointX\n",
    "    dataframe['SmoothPixelPointY'] = gazePointY\n",
    "\n",
    "    return dataframe\n",
    "\n",
    "\n",
    "def apply_filter(gazePoints):\n",
    "    window_length = 4\n",
    "    filteredPoints = []\n",
    "    gaussian_weight_func = gaussian_filter(window_length)\n",
    "    i = 0  # Set i = 0 before while loop\n",
    "\n",
    "    while i < len(gazePoints):\n",
    "        if i < window_length:\n",
    "            # window_data = gazePoints[i:i + window_length]\n",
    "            # filteredPoints.append(np.median(window_data, axis=0))\n",
    "            filteredPoints.append(gazePoints[i])\n",
    "        else:\n",
    "            temp_points = gazePoints[(i - window_length + 1):(i + 1)]\n",
    "            weighted_avg = np.average(a=temp_points, weights=gaussian_weight_func, axis=0)\n",
    "            filteredPoints.append(weighted_avg)\n",
    "        i = i + 1  # Increment i within loop\n",
    "    return filteredPoints\n",
    "\n",
    "\n",
    "def gaussian_filter(window_length):\n",
    "    gaze_window_list = np.arange(1, window_length + 1)\n",
    "    gauss_list = []\n",
    "    for x in gaze_window_list:\n",
    "        x = math.e ** -((x ** 2)/(2 * (65)))\n",
    "        gauss_list.append(x)\n",
    "    gauss_list.reverse()\n",
    "    return gauss_list"
   ]
  },
  {
   "cell_type": "code",
   "execution_count": 3,
   "id": "7daf48ae",
   "metadata": {},
   "outputs": [
    {
     "name": "stdout",
     "output_type": "stream",
     "text": [
      "Total Fixation Duration = 10008.62600004673 ms, Number of Fixations = 6\n"
     ]
    }
   ],
   "source": [
    "import pandas as pd\n",
    "\n",
    "datafile_pdf_path = '../../data/pdfs'\n",
    "# oc_path = 'oc_articles/rotated'\n",
    "# data = \"logfiles_article_rotated_rotated.pdf_2024-03-12_13-50-21/1.log\"\n",
    "# data = f'{datafile_pdf_path}/{oc_path}/{data}'\n",
    "data = f'{datafile_pdf_path}/infancy eye tracking/logfiles_Eye Tracking in Infancy Research.pdf_2024-03-14_14-02-11/1.log'\n",
    "gaze_df = pd.read_csv(data, delimiter = \",\", header=None, \n",
    "           names = ['timestamp_system','left_gaze_point_x', 'left_gaze_point_y',\n",
    "                   \"right_gaze_point_x\", \"right_gaze_point_y\"])\n",
    "gaze_df.dropna(inplace=True)\n",
    "\n",
    "#csv_file_path = 'gaze_data.csv'\n",
    "proccessed_csv_file_path = 'proccessed_gaze_data.csv'\n",
    "#gaze_df = pd.read_csv(csv_file_path)\n",
    "\n",
    "prepare_raw_data(gaze_df, proccessed_csv_file_path)\n",
    "event_detecting_smoothing(proccessed_csv_file_path)\n",
    "    \n",
    "fixations = get_fixations(proccessed_csv_file_path)\n",
    "#print(f'List of Fixations (start time, end time, dur, x, y): {fixations}')\n",
    "print(f'Total Fixation Duration = {sum(fix[2] for fix in fixations)} ms, Number of Fixations = {len(fixations)}')"
   ]
  },
  {
   "cell_type": "markdown",
   "id": "8b18003f",
   "metadata": {},
   "source": [
    "# Area of Interests Detections"
   ]
  },
  {
   "cell_type": "code",
   "execution_count": 4,
   "id": "fbaf7c48",
   "metadata": {},
   "outputs": [],
   "source": [
    "# need to install opencv additionally\n",
    "import cv2\n",
    "import pytesseract\n",
    "from PIL import Image\n",
    "\n",
    "def detect_para_aoi(image_path, display_size):\n",
    "    # Read the image\n",
    "    image = cv2.imread(image_path)\n",
    "\n",
    "    # Convert the image to RGB (PIL format)\n",
    "    image = cv2.cvtColor(image, cv2.COLOR_BGR2RGB)\n",
    "\n",
    "    # Use PyTesseract to extract text and bounding boxes\n",
    "    hImg, wImg, _ = image.shape\n",
    "    boxes = pytesseract.image_to_data(image)\n",
    " \n",
    "\n",
    "    def group_into_paragraphs(boxes, line_threshold):\n",
    "        # Sort boxes by their y-coordinate\n",
    "        boxes.sort(key=lambda b: b[1])\n",
    "\n",
    "        paragraphs = []\n",
    "        current_para = [boxes[0]]\n",
    "\n",
    "        for i in range(1, len(boxes)):\n",
    "            # Get current box and the last box in the current paragraph\n",
    "            current_box = boxes[i]\n",
    "            last_box_in_para = current_para[-1]\n",
    "\n",
    "            # Calculate vertical distance between boxes\n",
    "            vertical_distance = current_box[1] - (last_box_in_para[1] + last_box_in_para[3])\n",
    "\n",
    "            # Check if the current box is part of the current paragraph\n",
    "            if vertical_distance <= line_threshold:\n",
    "                current_para.append(current_box)\n",
    "            else:\n",
    "                # If the distance is larger than the threshold, start a new paragraph\n",
    "                paragraphs.append(current_para)\n",
    "                current_para = [current_box]\n",
    "\n",
    "        # Add the last paragraph\n",
    "        paragraphs.append(current_para)\n",
    "\n",
    "        # Combine boxes in each paragraph to get paragraph bounding box\n",
    "        para_bounding_boxes = []\n",
    "        for para in paragraphs:\n",
    "            x = min(box[0] for box in para)\n",
    "            y = min(box[1] for box in para)\n",
    "            w = max(box[0] + box[2] for box in para) - x\n",
    "            h = max(box[1] + box[3] for box in para) - y\n",
    "            para_bounding_boxes.append((x, y, w, h))\n",
    "\n",
    "        return para_bounding_boxes\n",
    "    # Initialize a list to store paragraph coordinates\n",
    "    paragraphs = []\n",
    "\n",
    "    # Process the output\n",
    "    for x, b in enumerate(boxes.splitlines()):\n",
    "        if x != 0:\n",
    "            b = b.split()\n",
    "     \n",
    "\n",
    "            if len(b) == 12:\n",
    "                x, y, w, h = int(b[6]), int(b[7]), int(b[8]), int(b[9])\n",
    "                # Here, you need to implement logic to group these boxes into paragraphs\n",
    "                # For simplicity, let's just consider each box a paragraph\n",
    "                paragraphs.append((x, y, w, h))\n",
    "\n",
    "    # Group into paragraphs\n",
    "    line_threshold = 25  # maximum pixel distance between lines in the same paragraph\n",
    "    #para_threshold = 45  # maximum pixel distance to separate paragraphs\n",
    "    paragraphs = group_into_paragraphs(paragraphs, line_threshold)\n",
    "\n",
    "    # Now, `paragraphs` list contains coordinates of each 'paragraph'\n",
    "    paragraphs.sort(key=lambda b: b[1])\n",
    "    para_AOI = {}\n",
    "    for index, para in enumerate(paragraphs):\n",
    "        key = f\"para_AOI_{index+1}\"\n",
    "        para_AOI[key] = para\n",
    "    return para_AOI"
   ]
  },
  {
   "cell_type": "code",
   "execution_count": 5,
   "id": "8640ce46",
   "metadata": {},
   "outputs": [
    {
     "name": "stdout",
     "output_type": "stream",
     "text": [
      "{'para_AOI_1': (312, 164, 362, 22), 'para_AOI_2': (144, 295, 988, 127), 'para_AOI_3': (144, 449, 989, 104), 'para_AOI_4': (144, 581, 988, 38), 'para_AOI_5': (144, 646, 988, 126), 'para_AOI_6': (145, 800, 986, 38)}\n"
     ]
    }
   ],
   "source": [
    "image_path = 'Image1.jpeg'\n",
    "img = Image.open(image_path)\n",
    "img = img.resize(DISPSIZE, Image.LANCZOS)\n",
    "img.save(\"temp.png\")\n",
    "\n",
    "para_AOI = detect_para_aoi(image_path = \"temp.png\", display_size = DISPSIZE)\n",
    "print(para_AOI)"
   ]
  },
  {
   "cell_type": "code",
   "execution_count": 6,
   "id": "2dcff324",
   "metadata": {},
   "outputs": [],
   "source": [
    "import matplotlib.pyplot as plt\n",
    "import matplotlib.patches as patches\n",
    "\n",
    "def caluclate_fixation_count_AOI(aoi, fixations):\n",
    "    aoi_x, aoi_y, aoi_w, aoi_h = aoi\n",
    "    counts = 0\n",
    "    for element in fixations:\n",
    "        _, _, _, fix_x, fix_y = element\n",
    "        if aoi_x <= fix_x <= aoi_x + aoi_w and aoi_y <= fix_y <= aoi_y + aoi_h:\n",
    "            counts = counts + 1\n",
    "    return counts\n",
    "\n",
    "display_size = DISPSIZE\n",
    "image_path = 'temp.png'\n",
    "image = Image.open(image_path)\n",
    "image= image.resize((display_size[0], display_size[1]), Image.LANCZOS)\n",
    "\n",
    "fig, ax = plt.subplots()\n",
    "ax.imshow(image)\n",
    "for idx, pair in enumerate(para_AOI.items()):\n",
    "    key, area = pair\n",
    "    counts = caluclate_fixation_count_AOI(area, fixations)\n",
    "    x, y, width, height = area\n",
    "    alpha = (counts / len(fixations))\n",
    "    rect = patches.Rectangle((x,y), width, height, linewidth=0.2, edgecolor='g', facecolor=(0, 0, 1, alpha))\n",
    "    ax.add_patch(rect)\n",
    "    \n",
    "plt.axis('off')\n",
    "plt.savefig(\"para_aoi.png\", dpi=1000, bbox_inches='tight', pad_inches=0)\n",
    "plt.close()\n",
    "\n",
    "image = Image.open(\"para_aoi.png\")\n",
    "image.show()"
   ]
  },
  {
   "cell_type": "code",
   "execution_count": 7,
   "id": "4e75a4c2",
   "metadata": {},
   "outputs": [],
   "source": [
    "import cv2\n",
    "import pytesseract\n",
    "from PIL import Image\n",
    "\n",
    "def detect_line_aoi(image_path, display_size): \n",
    "    # Read the image\n",
    "    image = cv2.imread('temp.png')\n",
    "\n",
    "    # Convert the image to RGB (PIL format)\n",
    "    image = cv2.cvtColor(image, cv2.COLOR_BGR2RGB)\n",
    "\n",
    "    # Use PyTesseract to extract text and bounding boxes\n",
    "    hImg, wImg, _ = image.shape\n",
    "    boxes = pytesseract.image_to_data(image)\n",
    "\n",
    "    def group_into_lines(boxes, line_threshold):\n",
    "        # Sort boxes by their y-coordinate\n",
    "        boxes.sort(key=lambda b: b[1])\n",
    "\n",
    "        lines = []\n",
    "        current_line = [boxes[0]]\n",
    "\n",
    "        for i in range(1, len(boxes)):\n",
    "            # Get current box and the last box in the current line\n",
    "            current_box = boxes[i]\n",
    "            last_box_in_line = current_line[-1]\n",
    "\n",
    "            # Calculate vertical distance between boxes\n",
    "            vertical_distance = current_box[1] - (last_box_in_line[1] + last_box_in_line[3])\n",
    "\n",
    "            # Check if the current box is part of the current line\n",
    "            if vertical_distance <= line_threshold:\n",
    "                current_line.append(current_box)\n",
    "            else:\n",
    "                # If the distance is larger than the threshold, start a new line\n",
    "                lines.append(current_line)\n",
    "                current_line = [current_box]\n",
    "\n",
    "        # Add the last line\n",
    "        lines.append(current_line)\n",
    "\n",
    "        # Combine boxes in each line to get line bounding box\n",
    "        line_bounding_boxes = []\n",
    "        for line in lines:\n",
    "            x = min(box[0] for box in line)\n",
    "            y = min(box[1] for box in line)\n",
    "            w = max(box[0] + box[2] for box in line) - x\n",
    "            h = max(box[1] + box[3] for box in line) - y\n",
    "            line_bounding_boxes.append((x, y, w, h))\n",
    "\n",
    "        return line_bounding_boxes\n",
    "\n",
    "    # Initialize a list to store line coordinates\n",
    "    lines = []\n",
    "\n",
    "    # Process the output\n",
    "    for x, b in enumerate(boxes.splitlines()):\n",
    "        if x != 0:\n",
    "            b = b.split()\n",
    "            if len(b) == 12:\n",
    "                x, y, w, h = int(b[6]), int(b[7]), int(b[8]), int(b[9])\n",
    "                lines.append((x, y, w, h))\n",
    "\n",
    "    # Group into lines\n",
    "    line_threshold = 5  # maximum pixel distance between lines\n",
    "    lines = group_into_lines(lines, line_threshold)\n",
    "\n",
    "    # Now, `lines` list contains coordinates of each line\n",
    "\n",
    "    lines.sort(key=lambda b: b[1])\n",
    "    line_AOI = {}\n",
    "    for index, line in enumerate(lines):\n",
    "        key = f\"Line_AOI_{index+1}\"\n",
    "        line_AOI[key] = line\n",
    "    return line_AOI\n",
    "    "
   ]
  },
  {
   "cell_type": "code",
   "execution_count": 8,
   "id": "0928fd84",
   "metadata": {},
   "outputs": [],
   "source": [
    "image_path = 'Image1.jpeg'\n",
    "img = Image.open(image_path)\n",
    "img = img.resize(DISPSIZE, Image.LANCZOS)\n",
    "img.save(\"temp.png\")\n",
    "\n",
    "line_AOI = detect_line_aoi(image_path = \"temp.png\", display_size = DISPSIZE)"
   ]
  },
  {
   "cell_type": "code",
   "execution_count": 9,
   "id": "c3f6b04b",
   "metadata": {},
   "outputs": [],
   "source": [
    "import matplotlib.pyplot as plt\n",
    "import matplotlib.patches as patches\n",
    "\n",
    "\n",
    "def caluclate_fixation_count_AOI(aoi, fixations):\n",
    "    aoi_x, aoi_y, aoi_w, aoi_h = aoi\n",
    "    counts = 0\n",
    "    for element in fixations:\n",
    "        _, _, _, fix_x, fix_y = element\n",
    "        if aoi_x <= fix_x <= aoi_x + aoi_w and aoi_y <= fix_y <= aoi_y + aoi_h:\n",
    "            counts = counts + 1\n",
    "    return counts\n",
    "\n",
    "image_path = 'temp.png'\n",
    "image = Image.open(image_path)\n",
    "image= image.resize(DISPSIZE, Image.LANCZOS)\n",
    "\n",
    "fig, ax = plt.subplots()\n",
    "ax.imshow(image)\n",
    "for idx, pair in enumerate(line_AOI.items()):\n",
    "    key, area = pair\n",
    "    counts = caluclate_fixation_count_AOI(area, fixations)\n",
    "    x, y, width, height = area\n",
    "    alpha = 5 * (counts / len(fixations))\n",
    "    rect = patches.Rectangle((x,y), width, height, linewidth=0.2, edgecolor='g', facecolor=(0, 0, 1, alpha))\n",
    "    ax.add_patch(rect)\n",
    "    \n",
    "plt.axis('off')\n",
    "plt.savefig(\"line_aoi.png\", dpi=1000, bbox_inches='tight', pad_inches=0)\n",
    "plt.close()\n",
    "\n",
    "image = Image.open(\"line_aoi.png\")\n",
    "image.show()"
   ]
  },
  {
   "cell_type": "code",
   "execution_count": 10,
   "id": "544103c3",
   "metadata": {},
   "outputs": [],
   "source": [
    "AOIs = para_AOI"
   ]
  },
  {
   "cell_type": "markdown",
   "id": "589c36b2",
   "metadata": {},
   "source": [
    "# newly added functions"
   ]
  },
  {
   "cell_type": "code",
   "execution_count": 11,
   "id": "98048406",
   "metadata": {},
   "outputs": [],
   "source": [
    "def caluclate_fixation_count_AOI(aoi, fixations):\n",
    "    aoi_x, aoi_y, aoi_w, aoi_h = aoi\n",
    "    counts = 0\n",
    "    for element in fixations:\n",
    "        _, _, _, fix_x, fix_y = element\n",
    "        if aoi_x <= fix_x <= aoi_x + aoi_w and aoi_y <= fix_y <= aoi_y + aoi_h:\n",
    "            counts = counts + 1\n",
    "    return counts\n",
    "\n",
    "def calculate_fixation_rate_AOI(fixation_counts, num_fixations):\n",
    "    ratios = []\n",
    "    for count in fixation_counts:\n",
    "        ratio = round((count / num_fixations), 3)\n",
    "        ratios.append(ratio)\n",
    "    return ratios\n",
    "\n",
    "def calculate_fixation_spatial_density(cells, fixations):\n",
    "    cell_hit_count = 0\n",
    "    for key, value in cells.items():\n",
    "        cell_x, cell_y, cell_w, cell_h = value\n",
    "        found = 0\n",
    "        for element in fixations:\n",
    "            _, _, _, fix_x, fix_y = element\n",
    "            if cell_x <= fix_x <= cell_x + cell_w and cell_y <= fix_y <= cell_y + cell_h and found == 0:\n",
    "                cell_hit_count = cell_hit_count + 1\n",
    "                found = 1\n",
    "    return cell_hit_count\n",
    "\n",
    "def calculate_fixation_time(aois, fixations):\n",
    "    aois_fixation_times = []\n",
    "    for key, value in aois.items():\n",
    "        aoi_x, aoi_y, aoi_w, aoi_h = value\n",
    "        fixation_time = 0\n",
    "        for element in fixations:\n",
    "            _, _, duration, fix_x, fix_y = element\n",
    "            if aoi_x <= fix_x < aoi_x + aoi_w and aoi_y <= fix_y < aoi_y + aoi_h:\n",
    "                fixation_time = fixation_time + duration\n",
    "        fixation_time = round(fixation_time, 3)\n",
    "        aois_fixation_times.append(fixation_time)\n",
    "    return aois_fixation_times\n",
    "\n",
    "def calculate_saccades(velocity_threshold, fixations):\n",
    "    saccades = []\n",
    "    for i in range(1, len(fixations)):\n",
    "        start_time_p, end_time_p, _ , fix_x_p, fix_y_p = fixations[i-1]\n",
    "        start_time_c, end_time_c, _ , fix_x_c, fix_y_c = fixations[i] \n",
    "\n",
    "        dx = fix_x_c - fix_x_p\n",
    "        dy = fix_y_c - fix_y_p\n",
    "        duration = start_time_c - end_time_p\n",
    "        velocity = math.sqrt(dx**2 + dy**2) / duration\n",
    "\n",
    "        if velocity >= velocity_threshold:\n",
    "            saccades.append((end_time_p, start_time_c, duration, dx, dy, velocity))\n",
    "    return saccades"
   ]
  },
  {
   "cell_type": "markdown",
   "id": "7371a697",
   "metadata": {},
   "source": [
    "# declaring GRIDs"
   ]
  },
  {
   "cell_type": "code",
   "execution_count": 12,
   "id": "0933d35a",
   "metadata": {},
   "outputs": [],
   "source": [
    "# creating grid cells\n",
    "cells = {}\n",
    "cell_counts = 1\n",
    "grid_x = 0\n",
    "grid_width = 250\n",
    "grid_height = 140\n",
    "for row in range(10):\n",
    "    grid_y = 0\n",
    "    for col in range(10):\n",
    "        cell = f'cell_{cell_counts}'\n",
    "        cells[cell] = [grid_x, grid_y, grid_width, grid_height]\n",
    "        grid_y = grid_y + 14\n",
    "        cell_counts = cell_counts + 1\n",
    "    grid_x = grid_x + 25\n",
    "\n",
    "# code starts from here\n",
    "# calculating number of fixations and cells\n",
    "total_fixations = len(fixations)\n",
    "total_cells = len(cells)"
   ]
  },
  {
   "cell_type": "markdown",
   "id": "d9ab701e",
   "metadata": {},
   "source": [
    "# fixation counts"
   ]
  },
  {
   "cell_type": "code",
   "execution_count": 13,
   "id": "2eace2e1",
   "metadata": {},
   "outputs": [
    {
     "name": "stdout",
     "output_type": "stream",
     "text": [
      "Fixation Counts per AOI : \n",
      "For para_AOI_1 fixation counts : 0\n",
      "For para_AOI_2 fixation counts : 0\n",
      "For para_AOI_3 fixation counts : 0\n",
      "For para_AOI_4 fixation counts : 0\n",
      "For para_AOI_5 fixation counts : 0\n",
      "For para_AOI_6 fixation counts : 0\n"
     ]
    }
   ],
   "source": [
    "# calculating fixations counts per AOI\n",
    "print(\"Fixation Counts per AOI : \")\n",
    "fixations_counts_aois = []\n",
    "for key, value in AOIs.items():\n",
    "    fixation_counts = caluclate_fixation_count_AOI(value, fixations)\n",
    "    print(f'For {key} fixation counts : {fixation_counts}')\n",
    "    fixations_counts_aois.append(fixation_counts)"
   ]
  },
  {
   "cell_type": "markdown",
   "id": "ea161481",
   "metadata": {},
   "source": [
    "# fixation rates"
   ]
  },
  {
   "cell_type": "code",
   "execution_count": 14,
   "id": "c221ab05",
   "metadata": {},
   "outputs": [
    {
     "name": "stdout",
     "output_type": "stream",
     "text": [
      "Fixation Rates per AOI : \n",
      "For para_AOI_1 fixation rates : 0.0\n",
      "For para_AOI_2 fixation rates : 0.0\n",
      "For para_AOI_3 fixation rates : 0.0\n",
      "For para_AOI_4 fixation rates : 0.0\n",
      "For para_AOI_5 fixation rates : 0.0\n",
      "For para_AOI_6 fixation rates : 0.0\n"
     ]
    }
   ],
   "source": [
    "print(\"Fixation Rates per AOI : \")\n",
    "fixation_rates = calculate_fixation_rate_AOI(fixations_counts_aois, total_fixations)\n",
    "for index, data in enumerate(AOIs.items()):\n",
    "    key, _ = data\n",
    "    print(f'For {key} fixation rates : {fixation_rates[index]}')"
   ]
  },
  {
   "cell_type": "markdown",
   "id": "d54dabfa",
   "metadata": {},
   "source": [
    "# Fixation Spatial Density"
   ]
  },
  {
   "cell_type": "code",
   "execution_count": 15,
   "id": "782771ca",
   "metadata": {},
   "outputs": [
    {
     "name": "stdout",
     "output_type": "stream",
     "text": [
      "Fixation Spatial Density  : \n",
      "Fixation Spatial Density : 0.09\n"
     ]
    }
   ],
   "source": [
    "print(\"Fixation Spatial Density  : \")\n",
    "fixation_spatial_density = calculate_fixation_spatial_density(cells, fixations) / total_cells\n",
    "print(f\"Fixation Spatial Density : {fixation_spatial_density}\")"
   ]
  },
  {
   "cell_type": "markdown",
   "id": "1a199069",
   "metadata": {},
   "source": [
    "# average fixation duration"
   ]
  },
  {
   "cell_type": "code",
   "execution_count": 16,
   "id": "142707c9",
   "metadata": {},
   "outputs": [
    {
     "name": "stdout",
     "output_type": "stream",
     "text": [
      "Average Fixation Duration  : \n",
      "Average Fixation Duration  : 1668.104 ms\n"
     ]
    }
   ],
   "source": [
    "print(\"Average Fixation Duration  : \")\n",
    "total_fixation_duration = sum(fix[2] for fix in fixations)\n",
    "average_fixation_duration = total_fixation_duration / total_fixations\n",
    "average_fixation_duration = round(average_fixation_duration, 3)\n",
    "print(f\"Average Fixation Duration  : {average_fixation_duration} ms\")"
   ]
  },
  {
   "cell_type": "markdown",
   "id": "06a17ee3",
   "metadata": {},
   "source": [
    "# fixations times"
   ]
  },
  {
   "cell_type": "code",
   "execution_count": 17,
   "id": "6d24b6e0",
   "metadata": {},
   "outputs": [],
   "source": [
    "fixation_times = calculate_fixation_time(AOIs, fixations)"
   ]
  },
  {
   "cell_type": "code",
   "execution_count": 18,
   "id": "6ec1f737",
   "metadata": {},
   "outputs": [
    {
     "name": "stdout",
     "output_type": "stream",
     "text": [
      "Fixation times per AOI  : \n",
      "For para_AOI_1 fixation time : 0 ms\n",
      "For para_AOI_2 fixation time : 0 ms\n",
      "For para_AOI_3 fixation time : 0 ms\n",
      "For para_AOI_4 fixation time : 0 ms\n",
      "For para_AOI_5 fixation time : 0 ms\n",
      "For para_AOI_6 fixation time : 0 ms\n"
     ]
    }
   ],
   "source": [
    "# printing fixation time per AOI\n",
    "print(\"Fixation times per AOI  : \")\n",
    "for index, data in enumerate(AOIs.items()):\n",
    "    key, value = data\n",
    "    fixation_time = fixation_times[index]\n",
    "    print(f'For {key} fixation time : {fixation_time} ms')"
   ]
  },
  {
   "cell_type": "markdown",
   "id": "fd903d12",
   "metadata": {},
   "source": [
    "# Ratio of ON-target:All-target Fixation Time (ROAFT) per AOI "
   ]
  },
  {
   "cell_type": "code",
   "execution_count": 19,
   "id": "e46c3fb0",
   "metadata": {},
   "outputs": [
    {
     "name": "stdout",
     "output_type": "stream",
     "text": [
      "Ratio of ON-target:All-target Fixation Time (ROAFT) per AOI : \n",
      "For para_AOI_1 ROAFT : 0.0\n",
      "For para_AOI_2 ROAFT : 0.0\n",
      "For para_AOI_3 ROAFT : 0.0\n",
      "For para_AOI_4 ROAFT : 0.0\n",
      "For para_AOI_5 ROAFT : 0.0\n",
      "For para_AOI_6 ROAFT : 0.0\n"
     ]
    }
   ],
   "source": [
    "print(\"Ratio of ON-target:All-target Fixation Time (ROAFT) per AOI : \")\n",
    "for index, data in enumerate(AOIs.items()):\n",
    "    key, value = data\n",
    "    fixation_time = fixation_times[index]\n",
    "    roaft = fixation_time / total_fixation_duration\n",
    "    roaft = round(roaft, 3)\n",
    "    print(f'For {key} ROAFT : {roaft}')"
   ]
  },
  {
   "cell_type": "markdown",
   "id": "45ec8c72",
   "metadata": {},
   "source": [
    "# Average Duration of Relevant Fixations (ADRF) based on fixation count or time\n"
   ]
  },
  {
   "cell_type": "markdown",
   "id": "480fbaac",
   "metadata": {},
   "source": [
    "### based on fixation time"
   ]
  },
  {
   "cell_type": "code",
   "execution_count": 20,
   "id": "df20b1a9",
   "metadata": {},
   "outputs": [
    {
     "ename": "ZeroDivisionError",
     "evalue": "division by zero",
     "output_type": "error",
     "traceback": [
      "\u001b[0;31m---------------------------------------------------------------------------\u001b[0m",
      "\u001b[0;31mZeroDivisionError\u001b[0m                         Traceback (most recent call last)",
      "Cell \u001b[0;32mIn[20], line 10\u001b[0m\n\u001b[1;32m      8\u001b[0m \u001b[38;5;28;01mfor\u001b[39;00m index \u001b[38;5;129;01min\u001b[39;00m relevent_aois:\n\u001b[1;32m      9\u001b[0m     relevent_aios_fixation_time \u001b[38;5;241m=\u001b[39m relevent_aios_fixation_time \u001b[38;5;241m+\u001b[39m fixation_times[index]\n\u001b[0;32m---> 10\u001b[0m average_duration_of_relevant_fixations \u001b[38;5;241m=\u001b[39m \u001b[43mrelevent_aios_fixation_time\u001b[49m\u001b[43m \u001b[49m\u001b[38;5;241;43m/\u001b[39;49m\u001b[43m \u001b[49m\u001b[38;5;28;43mlen\u001b[39;49m\u001b[43m(\u001b[49m\u001b[43mrelevent_aois\u001b[49m\u001b[43m)\u001b[49m\n\u001b[1;32m     11\u001b[0m average_duration_of_relevant_fixations \u001b[38;5;241m=\u001b[39m \u001b[38;5;28mround\u001b[39m(average_duration_of_relevant_fixations, \u001b[38;5;241m3\u001b[39m)\n\u001b[1;32m     12\u001b[0m \u001b[38;5;28mprint\u001b[39m(\u001b[38;5;124mf\u001b[39m\u001b[38;5;124m\"\u001b[39m\u001b[38;5;124mAverage Duration of Relevant Fixations (ADRF) : \u001b[39m\u001b[38;5;132;01m{\u001b[39;00maverage_duration_of_relevant_fixations\u001b[38;5;132;01m}\u001b[39;00m\u001b[38;5;124m ms\u001b[39m\u001b[38;5;124m\"\u001b[39m)\n",
      "\u001b[0;31mZeroDivisionError\u001b[0m: division by zero"
     ]
    }
   ],
   "source": [
    "relevent_aois = []\n",
    "fixation_time_threshold = 2000 \n",
    "for index, data in enumerate(AOIs.items()):\n",
    "    if fixation_times[index] > fixation_time_threshold:\n",
    "        relevent_aois.append(index)\n",
    "\n",
    "relevent_aios_fixation_time = 0\n",
    "for index in relevent_aois:\n",
    "    relevent_aios_fixation_time = relevent_aios_fixation_time + fixation_times[index]\n",
    "average_duration_of_relevant_fixations = relevent_aios_fixation_time / len(relevent_aois)\n",
    "average_duration_of_relevant_fixations = round(average_duration_of_relevant_fixations, 3)\n",
    "print(f\"Average Duration of Relevant Fixations (ADRF) : {average_duration_of_relevant_fixations} ms\")"
   ]
  },
  {
   "cell_type": "markdown",
   "id": "5c99ac7b",
   "metadata": {},
   "source": [
    "### based on fixation count"
   ]
  },
  {
   "cell_type": "code",
   "execution_count": 21,
   "id": "030116ec",
   "metadata": {},
   "outputs": [
    {
     "name": "stdout",
     "output_type": "stream",
     "text": [
      "Average Duration of Relevant Fixations (ADRF) : 31770.021 ms\n"
     ]
    }
   ],
   "source": [
    "relevent_aois = []\n",
    "fixation_count_threshold = 10\n",
    "for index, data in enumerate(AOIs.items()):\n",
    "    if fixations_counts_aois[index] > fixation_count_threshold:\n",
    "        relevent_aois.append(index)\n",
    "\n",
    "relevent_aios_fixation_time = 0\n",
    "for index in relevent_aois:\n",
    "    relevent_aios_fixation_time = relevent_aios_fixation_time + fixation_times[index]\n",
    "average_duration_of_relevant_fixations = relevent_aios_fixation_time / len(relevent_aois)\n",
    "average_duration_of_relevant_fixations = round(average_duration_of_relevant_fixations, 3)\n",
    "print(f\"Average Duration of Relevant Fixations (ADRF) : {average_duration_of_relevant_fixations} ms\")"
   ]
  },
  {
   "cell_type": "markdown",
   "id": "feb72693",
   "metadata": {},
   "source": [
    "# Normalised Rate of Relevant Fixations (NRRF)"
   ]
  },
  {
   "cell_type": "code",
   "execution_count": 22,
   "id": "1b82eb73",
   "metadata": {},
   "outputs": [
    {
     "name": "stdout",
     "output_type": "stream",
     "text": [
      "Normalised Rate of Relevant Fixations (NRRF) : 1.457\n"
     ]
    }
   ],
   "source": [
    "normalized_rate_of_relevant_fixations = average_duration_of_relevant_fixations / (total_fixation_duration/len(AOIs))\n",
    "normalized_rate_of_relevant_fixations  = round(normalized_rate_of_relevant_fixations , 3)\n",
    "print(f\"Normalised Rate of Relevant Fixations (NRRF) : {normalized_rate_of_relevant_fixations}\")"
   ]
  },
  {
   "cell_type": "markdown",
   "id": "bba4ee6c",
   "metadata": {},
   "source": [
    "# saccade related metrices"
   ]
  },
  {
   "cell_type": "markdown",
   "id": "61c45e61",
   "metadata": {},
   "source": [
    "### number of saccades"
   ]
  },
  {
   "cell_type": "code",
   "execution_count": 23,
   "id": "4aab9c43",
   "metadata": {},
   "outputs": [
    {
     "name": "stdout",
     "output_type": "stream",
     "text": [
      "Number of Saccades : 23\n"
     ]
    }
   ],
   "source": [
    "velocity_threshold = 10\n",
    "saccades = calculate_saccades(velocity_threshold, fixations)\n",
    "number_of_saccades = len(saccades)\n",
    "print(f'Number of Saccades : {number_of_saccades}')"
   ]
  },
  {
   "cell_type": "markdown",
   "id": "61735c8a",
   "metadata": {},
   "source": [
    "### saccade duration"
   ]
  },
  {
   "cell_type": "code",
   "execution_count": 24,
   "id": "64e2d3cc",
   "metadata": {},
   "outputs": [
    {
     "name": "stdout",
     "output_type": "stream",
     "text": [
      "Total Saccades durations : 616.692 ms\n"
     ]
    }
   ],
   "source": [
    "saccades_duration = sum(sample[2] for sample in saccades)\n",
    "saccades_duration = round(saccades_duration, 3)\n",
    "print(f'Total Saccades durations : {saccades_duration} ms')"
   ]
  },
  {
   "cell_type": "markdown",
   "id": "e63e82f9",
   "metadata": {},
   "source": [
    "### average saccade duration"
   ]
  },
  {
   "cell_type": "code",
   "execution_count": 25,
   "id": "1f5ba2da",
   "metadata": {},
   "outputs": [
    {
     "name": "stdout",
     "output_type": "stream",
     "text": [
      "Average Saccade Duration : 26.813 ms\n"
     ]
    }
   ],
   "source": [
    "average_saccades_duration = saccades_duration / number_of_saccades\n",
    "average_saccades_duration = round(average_saccades_duration, 3)\n",
    "print(f'Average Saccade Duration : {average_saccades_duration} ms')"
   ]
  },
  {
   "cell_type": "markdown",
   "id": "21ba5030",
   "metadata": {},
   "source": [
    "### backward saccades"
   ]
  },
  {
   "cell_type": "code",
   "execution_count": 26,
   "id": "646c0785",
   "metadata": {},
   "outputs": [
    {
     "name": "stdout",
     "output_type": "stream",
     "text": [
      "Total Number of Backward Saccades : 11\n"
     ]
    }
   ],
   "source": [
    "backward_saccades = len([i for i in range(len(saccades)) if saccades[i][3] < 0 or saccades[i][4] < 0])\n",
    "print(f'Total Number of Backward Saccades : {backward_saccades}')"
   ]
  },
  {
   "cell_type": "markdown",
   "id": "baf60be3",
   "metadata": {},
   "source": [
    "### Regression Rate"
   ]
  },
  {
   "cell_type": "code",
   "execution_count": 27,
   "id": "35b3d279",
   "metadata": {},
   "outputs": [
    {
     "name": "stdout",
     "output_type": "stream",
     "text": [
      "Regrassion Rate : 0.4782608695652174\n"
     ]
    }
   ],
   "source": [
    "regression_rate = backward_saccades / number_of_saccades\n",
    "print(f'Regrassion Rate : {regression_rate}')"
   ]
  },
  {
   "cell_type": "markdown",
   "id": "c4197eb0",
   "metadata": {},
   "source": [
    "# Fixation Plot"
   ]
  },
  {
   "cell_type": "code",
   "execution_count": 28,
   "id": "20ebcd9e",
   "metadata": {},
   "outputs": [
    {
     "data": {
      "image/png": "[encoded data removed]",
      "text/plain": [
       "<Figure size 640x480 with 1 Axes>"
      ]
     },
     "metadata": {},
     "output_type": "display_data"
    }
   ],
   "source": [
    "def generate_fixation_plot(image_path, fixations):\n",
    "    img = Image.open(image_path)\n",
    "    img = img.resize(DISPSIZE, Image.LANCZOS)\n",
    "\n",
    "    plt.imshow(img)\n",
    "    ax = plt.gca()\n",
    "\n",
    "    # Plot each fixation\n",
    "    for idx, data in enumerate(fixations):\n",
    "        _, _, duration, x, y = data\n",
    "        circle = plt.Circle((x, y), duration/150, color='cyan', fill = True)  # Adjust circle size factor as needed\n",
    "        ax.add_patch(circle)\n",
    "        ax.text(x, y, str(idx + 1), color='blue', fontsize=4, ha='center', va='center')\n",
    "\n",
    "        # Show the plot\n",
    "    plt.axis('off')  # To turn off the axis\n",
    "    plt.savefig('fixation_plot.png',dpi=1000, bbox_inches='tight', pad_inches=0)\n",
    "\n",
    "# plot the fixations on the given image , save the overlayed image and show it     \n",
    "image_path = 'Image1.jpeg'\n",
    "generate_fixation_plot(image_path, fixations)\n",
    "image = Image.open('fixation_plot.png')\n",
    "image.show()"
   ]
  },
  {
   "cell_type": "markdown",
   "id": "1cf6d6c3",
   "metadata": {},
   "source": [
    "# scanpath plot"
   ]
  },
  {
   "cell_type": "code",
   "execution_count": 29,
   "id": "efa162c0",
   "metadata": {},
   "outputs": [
    {
     "data": {
      "image/png": "[encoded data removed]",
      "text/plain": [
       "<Figure size 640x480 with 1 Axes>"
      ]
     },
     "metadata": {},
     "output_type": "display_data"
    }
   ],
   "source": [
    "def generate_scanpath_plot(image_path, fixations):\n",
    "    img = Image.open(image_path)\n",
    "    img = img.resize(DISPSIZE, Image.LANCZOS)\n",
    "\n",
    "    plt.imshow(img)\n",
    "    ax = plt.gca()\n",
    "\n",
    "    \n",
    "    # Plot the scan path (lines connecting fixation points)\n",
    "    for i in range(len(fixations)-1):\n",
    "        _, _, _, x1, y1 = fixations[i]\n",
    "        _, _, _, x2, y2 = fixations[i+1]\n",
    "        ax.plot([x1, x2], [y1, y2], color='green', linewidth=0.3) \n",
    "\n",
    "    # Plot each fixation\n",
    "    for idx, data in enumerate(fixations):\n",
    "        _, _, duration, x, y = data\n",
    "        circle = plt.Circle((x, y), duration/150, color='cyan', fill = True)  # Adjust circle size factor as needed\n",
    "        ax.add_patch(circle)\n",
    "        ax.text(x, y, str(idx + 1), color='blue', fontsize=4, ha='center', va='center')\n",
    "\n",
    "        # Show the plot\n",
    "    plt.axis('off')  # To turn off the axis\n",
    "    plt.savefig('scanpath_plot.png',dpi=300, bbox_inches='tight', pad_inches=0)\n",
    "\n",
    "# plot the scanpaths on the given image , save the overlayed image and show it     \n",
    "image_path = 'Image1.jpeg'\n",
    "generate_scanpath_plot(image_path, fixations)\n",
    "image = Image.open('scanpath_plot.png')\n",
    "image.show()"
   ]
  },
  {
   "cell_type": "markdown",
   "id": "1c5399d2",
   "metadata": {},
   "source": [
    "# Heatmap"
   ]
  },
  {
   "cell_type": "markdown",
   "id": "63ce770b",
   "metadata": {},
   "source": [
    "### Normal Heatmap using seaborn"
   ]
  },
  {
   "cell_type": "code",
   "execution_count": 30,
   "id": "5ad115af",
   "metadata": {},
   "outputs": [
    {
     "name": "stderr",
     "output_type": "stream",
     "text": [
      "/Users/andreas/miniconda3/envs/es/lib/python3.10/site-packages/seaborn/_oldcore.py:1119: FutureWarning: use_inf_as_na option is deprecated and will be removed in a future version. Convert inf values to NaN before operating instead.\n",
      "  with pd.option_context('mode.use_inf_as_na', True):\n",
      "/Users/andreas/miniconda3/envs/es/lib/python3.10/site-packages/seaborn/_oldcore.py:1119: FutureWarning: use_inf_as_na option is deprecated and will be removed in a future version. Convert inf values to NaN before operating instead.\n",
      "  with pd.option_context('mode.use_inf_as_na', True):\n"
     ]
    }
   ],
   "source": [
    "import matplotlib.pyplot as plt\n",
    "import seaborn as sns\n",
    "from PIL import Image\n",
    "\n",
    "def generate_heatmap(image_path, display_size, dataframe):\n",
    "    \n",
    "    image = Image.open(image_path)\n",
    "    image= image.resize((display_size[0], display_size[1]), Image.LANCZOS)\n",
    "    image_size = image.size\n",
    "    \n",
    "    x =  dataframe['PixelPointX']\n",
    "    y = dataframe['PixelPointY']\n",
    "    \n",
    "    fig, ax = plt.subplots(figsize=(image_size[0]/100, image_size[1] / 100), frameon=False)\n",
    "\n",
    "    ax.imshow(image)\n",
    "\n",
    "    sns.kdeplot(x=x, y=y, cmap=\"hot\", fill=True, alpha=0.6, ax=ax)\n",
    "\n",
    "    ax.set_xlim(0, image_size[0])\n",
    "    ax.set_ylim(image_size[1], 0)\n",
    "    plt.axis('off')\n",
    "    plt.savefig('heatmap_plot1.png', dpi=300, bbox_inches='tight', pad_inches=0)\n",
    "    plt.close()\n",
    "\n",
    "image_path = 'Image1.jpeg'\n",
    "proccessed_csv_file_path = 'proccessed_gaze_data.csv'\n",
    "gaze_df = pd.read_csv(proccessed_csv_file_path)\n",
    "generate_heatmap(image_path, DISPSIZE, gaze_df)\n",
    "image = Image.open('heatmap_plot1.png')\n",
    "image.show()"
   ]
  },
  {
   "cell_type": "markdown",
   "id": "aee28661",
   "metadata": {},
   "source": [
    "### Heatmap using a matrix generation"
   ]
  },
  {
   "cell_type": "code",
   "execution_count": 31,
   "id": "e6a6ed6e",
   "metadata": {},
   "outputs": [],
   "source": [
    "import numpy as np\n",
    "def gaussian(x, sx, y=None, sy=None):\n",
    "\n",
    "    # square Gaussian if only x values are passed\n",
    "    if y == None:\n",
    "        y = x\n",
    "    if sy == None:\n",
    "        sy = sx\n",
    "    # centers\n",
    "    xo = x/2\n",
    "    yo = y/2\n",
    "    # matrix of zeros\n",
    "    M = np.zeros([y,x],dtype=float)\n",
    "    # gaussian matrix\n",
    "    for i in range(x):\n",
    "        for j in range(y):\n",
    "            M[j,i] = np.exp(-1.0 * (((float(i)-xo)**2/(2*sx*sx)) + ((float(j)-yo)**2/(2*sy*sy)) ) )\n",
    "\n",
    "    return M\n",
    "\n",
    "def generate_heatmap_matrix(display_size, fixations):\n",
    "    gwh = 200\n",
    "    gsdwh = gwh/6\n",
    "    gaus = gaussian(gwh,gsdwh)\n",
    "\n",
    "    strt = gwh/2\n",
    "    heatmapsize = int(display_size[1] + 2*strt), int(display_size[0] + 2*strt)\n",
    "    heatmap = np.zeros(heatmapsize, dtype=float)\n",
    "    # create heatmap\n",
    "    for i in range(0,len(fixations[:])):\n",
    "        # get x and y coordinates\n",
    "        #x and y - indexes of heatmap array. must be integers\n",
    "        x = strt + int(fixations[i][3]) - int(gwh/2)\n",
    "        y = strt + int(fixations[i][4]) - int(gwh/2)\n",
    "        # correct Gaussian size if either coordinate falls outside of\n",
    "        # display boundaries\n",
    "        if (not 0 < x < display_size[0]) or (not 0 < y < display_size[1]):\n",
    "            hadj=[0,gwh];vadj=[0,gwh]\n",
    "            if 0 > x:\n",
    "                hadj[0] = abs(x)\n",
    "                x = 0\n",
    "            elif dispsize[0] < x:\n",
    "                hadj[1] = gwh - int(x-display_size[0])\n",
    "            if 0 > y:\n",
    "                vadj[0] = abs(y)\n",
    "                y = 0\n",
    "            elif dispsize[1] < y:\n",
    "                vadj[1] = gwh - int(y-display_size[1])\n",
    "            # add adjusted Gaussian to the current heatmap\n",
    "            try:\n",
    "                heatmap[int(y):int(y+vadj[1]),int(x):int(x+hadj[1])] += \\\n",
    "                    gaus[int(vadj[0]):int(vadj[1]),int(hadj[0]):int(hadj[1])] * fixations[i][2]\n",
    "            except:\n",
    "                # fixation was probably outside of display\n",
    "                pass\n",
    "        else:\n",
    "            # add Gaussian to the current heatmap\n",
    "            heatmap[int(y):int(y+gwh),int(x):int(x+gwh)] += gaus * fixations[i][2]\n",
    "    # resize heatmap\n",
    "    heatmap = heatmap[int(strt):int(display_size[1]+strt),int(strt):int(display_size[0]+strt)]\n",
    "    # remove zeros\n",
    "    lowbound = np.mean(heatmap[heatmap>0])\n",
    "    heatmap[heatmap<lowbound] = np.nan\n",
    "    return heatmap"
   ]
  },
  {
   "cell_type": "code",
   "execution_count": 32,
   "id": "57e09c28",
   "metadata": {},
   "outputs": [],
   "source": [
    "display_size = DISPSIZE\n",
    "heatmap = generate_heatmap_matrix(display_size = display_size, fixations = fixations)\n",
    "\n",
    "image_path = 'Image1.jpeg'\n",
    "img = Image.open(image_path)\n",
    "img = img.resize(display_size, Image.LANCZOS)\n",
    "\n",
    "plt.imshow(img)\n",
    "ax = plt.gca()\n",
    "\n",
    "ax.imshow(heatmap, cmap='jet', alpha=0.5)\n",
    "plt.axis('off')\n",
    "plt.savefig(\"heatmap_plot_2.png\", dpi=1000, bbox_inches='tight', pad_inches=0)\n",
    "plt.close()\n",
    "\n",
    "image = Image.open('heatmap_plot_2.png')\n",
    "image.show()"
   ]
  },
  {
   "cell_type": "markdown",
   "id": "8497182a",
   "metadata": {},
   "source": [
    "### opacity map generation"
   ]
  },
  {
   "cell_type": "code",
   "execution_count": 33,
   "id": "30d28ccb",
   "metadata": {},
   "outputs": [],
   "source": [
    "def generate_opacity(np_image, heatmap):\n",
    "    for i in range(np_image.shape[0]):\n",
    "        for j in range(np_image.shape[1]):\n",
    "            for k in range(np_image.shape[2]):\n",
    "                if np.isnan(heatmap[i][j]):\n",
    "                    np_image[i][j][k] = 0\n",
    "    return np_image"
   ]
  },
  {
   "cell_type": "code",
   "execution_count": 34,
   "id": "80269327",
   "metadata": {},
   "outputs": [],
   "source": [
    "\n",
    "display_size = DISPSIZE\n",
    "\n",
    "heatmap = generate_heatmap_matrix(display_size = display_size, fixations = fixations)\n",
    "image_path = 'Image1.jpeg'\n",
    "img = Image.open(image_path)\n",
    "img = img.resize(display_size, Image.LANCZOS)\n",
    "\n",
    "numpy_array = np.array(img)\n",
    "\n",
    "numpy_array_modified = generate_opacity(numpy_array, heatmap)\n",
    "\n",
    "\n",
    "img = Image.fromarray(numpy_array_modified)\n",
    "plt.imshow(img)\n",
    "plt.axis('off')\n",
    "plt.savefig(\"opacity_plot.png\", dpi=1000, bbox_inches='tight', pad_inches=0)\n",
    "plt.close()\n",
    "\n",
    "image = Image.open('opacity_plot.png')\n",
    "image.show()"
   ]
  },
  {
   "cell_type": "code",
   "execution_count": null,
   "id": "e6d33793-ff74-47c1-805a-e902b181fab8",
   "metadata": {},
   "outputs": [],
   "source": []
  }
 ],
 "metadata": {
  "kernelspec": {
   "display_name": "Python 3 (ipykernel)",
   "language": "python",
   "name": "python3"
  },
  "language_info": {
   "codemirror_mode": {
    "name": "ipython",
    "version": 3
   },
   "file_extension": ".py",
   "mimetype": "text/x-python",
   "name": "python",
   "nbconvert_exporter": "python",
   "pygments_lexer": "ipython3",
   "version": "3.10.13"
  }
 },
 "nbformat": 4,
 "nbformat_minor": 5
}
