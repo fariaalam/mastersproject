{
 "cells": [
  {
   "cell_type": "code",
   "execution_count": 1,
   "id": "33e45fd3",
   "metadata": {},
   "outputs": [],
   "source": [
    "import pandas as pd\n",
    "import numpy as np\n",
    "import math\n",
    "import matplotlib.pyplot as plt\n",
    "import matplotlib.image as mpimg\n",
    "from PIL import Image\n",
    "import numpy as np"
   ]
  },
  {
   "cell_type": "code",
   "execution_count": 2,
   "id": "40d476cf",
   "metadata": {},
   "outputs": [],
   "source": [
    "# CONSTANTS\n",
    "DISPSIZE = (2500, 1400) # Display Resolution\n",
    "MAXIMAL_DISTANCE = 25 # Eucledian Distance Fixation Calculation (Dispersion)\n",
    "MINIMAL_DURATION = 50 # Minimal duration to be considered a fixation in milliseconds (typically 50 - 200)\n",
    "\n",
    "def prepare_raw_data(gazeData, dataset):\n",
    "    if gazeData.empty:\n",
    "        print(\"Warning: gazeData is empty. Skipping processing.\")\n",
    "        return\n",
    "\n",
    "    gazeData = filter_valid_entries(gazeData)\n",
    "    gazeData = get_xy_coordinates(gazeData)\n",
    "    gazeData = compute_mean_gaze_point(gazeData)\n",
    "    gazeData = filterOffDisplayValues(gazeData)\n",
    "    timestamps = getTimestampsInMilliseconds(gazeData)\n",
    "    time = pd.Series(timestamps)\n",
    "    gazeData = gazeData.assign(Timestamp=time.values)\n",
    "    gazeData.reset_index()\n",
    "\n",
    "    x_gazePoints, width = getXGazePointsAsPixel(gazeData)\n",
    "    y_gazePoints, height = getYGazePointsAsPixel(gazeData)\n",
    "    s = pd.Series(x_gazePoints)\n",
    "    t = pd.Series(y_gazePoints)\n",
    "    gazeData = gazeData.assign(PixelPointX=s.values)\n",
    "    gazeData = gazeData.assign(PixelPointY=t.values)\n",
    "    gazeData = remove_noise_df(gazeData)\n",
    "    gazeData = calculate_isd(gazeData)\n",
    "    gazeData = add_velocity_df(gazeData)\n",
    "\n",
    "    gazeData.to_csv(dataset, index=False, na_rep='NaN')\n",
    "\n",
    "def get_xy_coordinates(dataframe):\n",
    "    def process_cell(cell_value):\n",
    "        cell_value = cell_value.strip('()')  \n",
    "        values = cell_value.split(',')  \n",
    "        return [float(value) for value in values]  \n",
    "        \n",
    "    dataframe['left_gaze_point_on_display_area'] = dataframe['left_gaze_point_on_display_area'].apply(process_cell)\n",
    "    dataframe['left_gaze_point_x'] = dataframe['left_gaze_point_on_display_area'].apply(lambda x: x[0])\n",
    "    dataframe['left_gaze_point_y'] = dataframe['left_gaze_point_on_display_area'].apply(lambda x: x[1])\n",
    "        \n",
    "    dataframe['right_gaze_point_on_display_area'] = dataframe['right_gaze_point_on_display_area'].apply(process_cell)\n",
    "\n",
    "    dataframe['right_gaze_point_x'] = dataframe['right_gaze_point_on_display_area'].apply(lambda x: x[0])\n",
    "    dataframe['right_gaze_point_y'] = dataframe['right_gaze_point_on_display_area'].apply(lambda x: x[1])\n",
    "\n",
    "    return dataframe\n",
    "\n",
    "def event_detecting_smoothing(csv_file):\n",
    "    event_df = pd.read_csv(csv_file)\n",
    "    if event_df.empty:\n",
    "        print(\"Warning: event_df is empty. Skipping processing.\")\n",
    "        return\n",
    "    else:\n",
    "        gazeData = mark_events_saccade_blink_noise(csv_file)\n",
    "        gazeData = smooth_gaze_data(gazeData)\n",
    "        gazeData.to_csv(csv_file, index=False, na_rep='NaN')\n",
    "\n",
    "def get_fixations(csv_file):\n",
    "    gazeData = pd.read_csv(csv_file)\n",
    "    timestamps = getTimestampsInMilliseconds(gazeData)\n",
    "    x_gazePoints = gazeData.SmoothPixelPointX\n",
    "    y_gazePoints = gazeData.SmoothPixelPointY\n",
    "    fixations_all_data = FilterDataWithFixations_weighted_mean(x_gazePoints, y_gazePoints, timestamps, mindur=50)\n",
    "    fixations = []\n",
    "    for fixation_data in fixations_all_data:\n",
    "        start_time, end_time, duration, mean_x, mean_y, _ = fixation_data  # Ignore fixation points\n",
    "        fixations.append([start_time, end_time, duration, mean_x, mean_y])\n",
    "    return fixations\n",
    "\n",
    "\n",
    "\n",
    "''' Fixation Algorithm'''\n",
    "\n",
    "class Point:\n",
    "    def __init__(self, x, y):\n",
    "        self.x = x\n",
    "        self.y = y\n",
    "\n",
    "\n",
    "def calculate_distance(point1, point2):\n",
    "    # Calculate the Euclidean distance between two points\n",
    "    return ((point1.x - point2.x) ** 2 + (point1.y - point2.y) ** 2) ** 0.5\n",
    "\n",
    "def calculate_weighted_mean(points):\n",
    "    # Calculate the weighted mean of a list of points\n",
    "    n = len(points)\n",
    "    weighted_x_sum = sum((i + 1) * point.x for i, point in enumerate(points))\n",
    "    weighted_y_sum = sum((i + 1) * point.y for i, point in enumerate(points))\n",
    "    total_weight = (n * (n + 1)) / 2  # Sum of weights from 1 to n\n",
    "\n",
    "    if total_weight == 0:\n",
    "        return None  # Avoid division by zero\n",
    "\n",
    "    mean_x = weighted_x_sum / total_weight\n",
    "    mean_y = weighted_y_sum / total_weight\n",
    "\n",
    "    return Point(mean_x, mean_y)\n",
    "\n",
    "def FilterDataWithFixations_weighted_mean(x, y, time, saccade_threshold=MAXIMAL_DISTANCE, maxdist=MAXIMAL_DISTANCE, mindur=MINIMAL_DURATION):\n",
    "    fixations = []\n",
    "\n",
    "    current_fixation = []\n",
    "\n",
    "    for i in range(len(x)):\n",
    "        current_point = Point(x[i], y[i])\n",
    "\n",
    "        if not current_fixation:\n",
    "            current_fixation.append(current_point)\n",
    "            continue\n",
    "\n",
    "        last_fixation_point = current_fixation[-1]\n",
    "        distance_to_current = calculate_distance(current_point, last_fixation_point)\n",
    "\n",
    "        if distance_to_current < saccade_threshold:\n",
    "            current_fixation.append(current_point)\n",
    "        else:\n",
    "            if current_fixation:\n",
    "                # Check if the current fixation is valid (meets duration criteria)\n",
    "                start_time = time[i - len(current_fixation)]\n",
    "                end_time = time[i - 1]\n",
    "                duration = end_time - start_time\n",
    "                if duration >= mindur:\n",
    "                    weighted_mean = calculate_weighted_mean(current_fixation)\n",
    "                    if weighted_mean is not None:\n",
    "                        fixations.append([start_time, end_time, duration, weighted_mean.x, weighted_mean.y, current_fixation])\n",
    "                current_fixation = []\n",
    "\n",
    "    # Check if there's any remaining fixation\n",
    "    if current_fixation:\n",
    "        start_time = time[len(x) - len(current_fixation)]\n",
    "        end_time = time[-1]\n",
    "        duration = end_time - start_time\n",
    "        if duration >= mindur:\n",
    "            weighted_mean = calculate_weighted_mean(current_fixation)\n",
    "            if weighted_mean is not None:\n",
    "                fixations.append([start_time, end_time, duration, weighted_mean.x, weighted_mean.y, current_fixation])\n",
    "\n",
    "    return fixations\n",
    "\n",
    "\n",
    "''' Helper Functions'''\n",
    "\n",
    "# Monoccular\n",
    "def filter_valid_entries(dataframe):\n",
    "    valid_rows = dataframe[(dataframe['left_gaze_point_validity'] == 1) | (dataframe['right_gaze_point_validity'] == 1)]\n",
    "    return valid_rows\n",
    "\n",
    "\n",
    "def compute_mean_gaze_point(dataframe):\n",
    "    actualGazePointX = []\n",
    "    actualGazePointY = []\n",
    "\n",
    "    for index, row in dataframe.iterrows():\n",
    "        leftX = row['left_gaze_point_x']\n",
    "        leftY = row['left_gaze_point_y']\n",
    "        rightX = row['right_gaze_point_x']\n",
    "        rightY = row['right_gaze_point_y']\n",
    "\n",
    "        if not np.isnan(leftX) and not np.isnan(leftY) and not np.isnan(rightX) and not np.isnan(rightY):\n",
    "            actualX = (leftX + rightX) / 2\n",
    "            actualY = (leftY + rightY) / 2\n",
    "        elif np.isnan(leftX) and np.isnan(leftY):\n",
    "            actualX = rightX\n",
    "            actualY = rightY\n",
    "        elif np.isnan(rightX) and np.isnan(rightY):\n",
    "            actualX = leftX\n",
    "            actualY = leftY\n",
    "\n",
    "        actualGazePointX.append(actualX)\n",
    "        actualGazePointY.append(actualY)\n",
    "\n",
    "    s = pd.Series(actualGazePointX)\n",
    "    t = pd.Series(actualGazePointY)\n",
    "    dataframe = dataframe.assign(ActualGazePointX=s.values)\n",
    "    dataframe = dataframe.assign(ActualGazePointY=t.values)\n",
    "    return dataframe\n",
    "\n",
    "\n",
    "#Remove all off Display values\n",
    "def filterOffDisplayValues(dataframe):\n",
    "\n",
    "    inboundAll = dataframe[dataframe['ActualGazePointX'] <= 1]\n",
    "    inboundAll = inboundAll[inboundAll['ActualGazePointX'] >= 0]\n",
    "\n",
    "    inboundAll = inboundAll[inboundAll['ActualGazePointY'] <= 1]\n",
    "    inboundAll = inboundAll[inboundAll['ActualGazePointY'] >= 0]\n",
    "\n",
    "    return inboundAll\n",
    "\n",
    "\n",
    "def getTimestampsInMilliseconds(dataframe):\n",
    "    time = dataframe.device_time_stamp\n",
    "    # time = dataframe.Timestamp\n",
    "    time.reset_index(drop=True, inplace=True)\n",
    "    t_temp = []\n",
    "\n",
    "    if not time.empty:\n",
    "        initalTime = time.iloc[0] / 1000\n",
    "        for t in time:\n",
    "            t_temp.append(t / 1000 - initalTime)\n",
    "    else:\n",
    "        print(\"Warning: time Series is empty. Returning an empty list.\")\n",
    "\n",
    "    return t_temp\n",
    "\n",
    "def getXGazePointsAsPixel(dataframe):\n",
    "    # user32 = ctypes.windll.user32\n",
    "    # width = user32.GetSystemMetrics(0)\n",
    "    # print(width)\n",
    "    width = DISPSIZE[0]\n",
    "    # width =  2560 #2048 #412\n",
    "    x_temp = []\n",
    "    actualX = dataframe['ActualGazePointX']\n",
    "    for x in actualX[0:]:\n",
    "        x_temp.append(round(x*width))\n",
    "        # x_temp.append(x * width)\n",
    "    return x_temp, width\n",
    "\n",
    "\n",
    "def getYGazePointsAsPixel(dataframe):\n",
    "    # user32 = ctypes.windll.user32\n",
    "    # height = user32.GetSystemMetrics(1)\n",
    "    # print(height)\n",
    "    height = DISPSIZE[1]\n",
    "    # height = 1440 #1152 #1440 #915\n",
    "    y_temp = []\n",
    "    actualY = dataframe['ActualGazePointY']\n",
    "    for y in actualY[0:]:\n",
    "        y_temp.append(round(y*height))\n",
    "        # y_temp.append(y * height)\n",
    "    return y_temp, height\n",
    "\n",
    "\n",
    "def calculate_isd(df):\n",
    "    df['InterSampleDuration_DS'] = df['device_time_stamp'].diff().fillna(0) / 1000\n",
    "    return df\n",
    "\n",
    "def remove_noise_df(dataframe):\n",
    "    gazePointX = dataframe['PixelPointX'].tolist()\n",
    "    gazePointY = dataframe['PixelPointY'].tolist()\n",
    "    # threshold = 0.97 degrees X; 1.17 degrees Y on a 2560x1440 disp at 60cm-65cm distance\n",
    "    noNoiseGazePointX = replace_outliers_with_median(gazePointX, threshold=50)\n",
    "    noNoiseGazePointY = replace_outliers_with_median(gazePointY, threshold=60)\n",
    "\n",
    "    dataframe['PixelPointX'] = noNoiseGazePointX\n",
    "    dataframe['PixelPointY'] = noNoiseGazePointY\n",
    "\n",
    "    return dataframe\n",
    "\n",
    "def replace_outliers_with_median(points, threshold, window_size=3):\n",
    "    num_points = len(points)\n",
    "    new_points = []\n",
    "\n",
    "    for i in range(len(points)):\n",
    "        if i < window_size or i >= num_points - window_size:\n",
    "            # not enough points\n",
    "            new_points.append(points[i])\n",
    "        else:\n",
    "            # Euclidean to points within the +2 and -2 window\n",
    "            distances = []\n",
    "            for j in range(i - window_size, i + window_size + 1):\n",
    "                distance = np.linalg.norm(points[i] - points[j])\n",
    "                distances.append(distance)\n",
    "\n",
    "            # distance greater than the threshold -->  outlier\n",
    "            if np.mean(distances) > threshold:\n",
    "                # Replace the outlier point with the median of the points within the window\n",
    "                median_point = np.median([points[j] for j in range(i - window_size, i + window_size + 1) if j != i],\n",
    "                                         axis=0)\n",
    "                new_points.append(median_point)\n",
    "\n",
    "            else:\n",
    "                new_points.append(points[i])\n",
    "\n",
    "    return new_points\n",
    "\n",
    "def add_velocity_df(gazeData, sampling_frequency=250):\n",
    "    # timestamps = gazeData.Timestamp\n",
    "    timestamps = getTimestampsInMilliseconds(gazeData)\n",
    "    x_gazePoints = gazeData.PixelPointX\n",
    "    y_gazePoints = gazeData.PixelPointY\n",
    "    velocity = calculate_velocity(x_gazePoints, y_gazePoints, timestamps, sampling_frequency)\n",
    "    # print(len(velocity), len(gazeData))\n",
    "    if len(velocity) == len(gazeData) - 1:\n",
    "        velocity = np.insert(velocity, 0, 0)\n",
    "    elif len(velocity) == len(gazeData):\n",
    "        velocity = velocity\n",
    "        # s = pd.Series(velocity)\n",
    "        # gazeData = gazeData.assign(Velocity=s.values)\n",
    "    gazeData['Velocity'] = velocity\n",
    "\n",
    "    return gazeData\n",
    "\n",
    "def calculate_velocity(x, y, timestamps, sampling_frequency=250):\n",
    "    time_intervals = np.diff(timestamps) / 1000  # Convert milliseconds to seconds\n",
    "\n",
    "    if np.any(time_intervals == 0):\n",
    "        print(\"Warning: Velocity calculation forced.\")\n",
    "        # force replace zero time intervals with 4ms because ET error, should be changed for different sampliong\n",
    "        time_intervals[time_intervals == 0] = 4\n",
    "\n",
    "    velocity = np.sqrt(np.diff(x)**2 + np.diff(y)**2) / (time_intervals * sampling_frequency)\n",
    "    velocity = np.insert(velocity, 0, 0)\n",
    "\n",
    "    return velocity\n",
    "\n",
    "\n",
    "def mark_events_saccade_blink_noise(csv_file):\n",
    "    event_df = pd.read_csv(csv_file)\n",
    "    if event_df.empty:\n",
    "        print(\"Warning: gazeData is empty. Skipping processing.\")\n",
    "        return\n",
    "\n",
    "    else:\n",
    "        event_df['Event_Type'] = 'Unknown'\n",
    "\n",
    "        saccade_start = False\n",
    "        saccade_end = False\n",
    "\n",
    "        for i in range(len(event_df)):\n",
    "            if i < 0:\n",
    "                continue\n",
    "\n",
    "            inter_sample_duration = event_df.at[i, 'InterSampleDuration_DS']\n",
    "            velocity = event_df.at[i, 'Velocity']\n",
    "\n",
    "            if 99 < inter_sample_duration < 200:\n",
    "                event_df.at[i, 'Event_Type'] = 'Blink_End'\n",
    "            elif inter_sample_duration > 200:\n",
    "                event_df.at[i, 'Event_Type'] = 'Noise_End'\n",
    "            else:\n",
    "                if velocity > 30 and not saccade_start:\n",
    "                    event_df.at[i, 'Event_Type'] = 'Saccade_Start'\n",
    "                    saccade_start = True\n",
    "                    saccade_end = False\n",
    "\n",
    "                    # Check if the next row exists\n",
    "                    if i + 1 < len(event_df):\n",
    "                        i = i + 1\n",
    "\n",
    "                if saccade_start and i + 1 < len(event_df) and event_df.at[i + 1, 'Velocity'] <= 30 and not saccade_end:\n",
    "                    event_df.at[i-1, 'Event_Type'] = 'Saccade_End'\n",
    "                    saccade_start = False\n",
    "                    saccade_end = True\n",
    "\n",
    "                if saccade_start and not saccade_end:\n",
    "                    event_df.at[i, 'Event_Type'] = 'Saccade'\n",
    "\n",
    "        for i in range(len(event_df)):\n",
    "            if i == 0:\n",
    "                continue\n",
    "            if event_df.at[i, 'Event_Type'] == 'Saccade_End' and event_df.at[i - 1, 'Event_Type'] == 'Saccade_Start':\n",
    "                event_df.at[i, 'Event_Type'] = 'Noise'\n",
    "                event_df.at[i - 1, 'Event_Type'] = 'Noise'\n",
    "            if event_df.at[i, 'Event_Type'] == 'Saccade_End' and event_df.at[i - 1, 'Event_Type'] != 'Saccade':\n",
    "                event_df.at[i, 'Event_Type'] = 'Noise'\n",
    "\n",
    "        return event_df\n",
    "\n",
    "\n",
    "\n",
    "def smooth_gaze_data(dataframe):\n",
    "    if dataframe.empty:\n",
    "        print(\"Warning: gazeData is empty. Skipping processing.\")\n",
    "        return\n",
    "\n",
    "    gazePointX = dataframe['PixelPointX'].tolist()\n",
    "    gazePointY = dataframe['PixelPointY'].tolist()\n",
    "    eventType = dataframe['Event_Type']\n",
    "\n",
    "    window_start = 0\n",
    "    i = 0\n",
    "\n",
    "    while i < len(dataframe):\n",
    "        if eventType[i] == 'Saccade_Start':\n",
    "            window_end = i - 1\n",
    "            if window_start <= window_end:\n",
    "\n",
    "                noNoiseGazePointX = apply_filter(gazePointX[window_start:window_end + 1])\n",
    "                noNoiseGazePointY = apply_filter(gazePointY[window_start:window_end + 1])\n",
    "\n",
    "                j = i + 1\n",
    "                while j < len(dataframe) and eventType[j] != 'Saccade_End':\n",
    "                    j += 1\n",
    "\n",
    "                gazePointX[window_start:window_end+1] = noNoiseGazePointX\n",
    "                gazePointY[window_start:window_end+1] = noNoiseGazePointY\n",
    "\n",
    "                window_start = j - 1 # Early Onset of Filtering to avoid problem stated at func start\n",
    "\n",
    "            i = window_start\n",
    "        else:\n",
    "            i += 1\n",
    "\n",
    "    if window_start < len(dataframe):\n",
    "        noNoiseGazePointX = apply_filter(gazePointX[window_start:])\n",
    "        noNoiseGazePointY = apply_filter(gazePointY[window_start:])\n",
    "        gazePointX[window_start:] = noNoiseGazePointX\n",
    "        gazePointY[window_start:] = noNoiseGazePointY\n",
    "\n",
    "    dataframe['SmoothPixelPointX'] = gazePointX\n",
    "    dataframe['SmoothPixelPointY'] = gazePointY\n",
    "\n",
    "    return dataframe\n",
    "\n",
    "\n",
    "def apply_filter(gazePoints):\n",
    "    window_length = 4\n",
    "    filteredPoints = []\n",
    "    gaussian_weight_func = gaussian_filter(window_length)\n",
    "    i = 0  # Set i = 0 before while loop\n",
    "\n",
    "    while i < len(gazePoints):\n",
    "        if i < window_length:\n",
    "            # window_data = gazePoints[i:i + window_length]\n",
    "            # filteredPoints.append(np.median(window_data, axis=0))\n",
    "            filteredPoints.append(gazePoints[i])\n",
    "        else:\n",
    "            temp_points = gazePoints[(i - window_length + 1):(i + 1)]\n",
    "            weighted_avg = np.average(a=temp_points, weights=gaussian_weight_func, axis=0)\n",
    "            filteredPoints.append(weighted_avg)\n",
    "        i = i + 1  # Increment i within loop\n",
    "    return filteredPoints\n",
    "\n",
    "\n",
    "def gaussian_filter(window_length):\n",
    "    gaze_window_list = np.arange(1, window_length + 1)\n",
    "    gauss_list = []\n",
    "    for x in gaze_window_list:\n",
    "        x = math.e ** -((x ** 2)/(2 * (65)))\n",
    "        gauss_list.append(x)\n",
    "    gauss_list.reverse()\n",
    "    return gauss_list"
   ]
  },
  {
   "cell_type": "code",
   "execution_count": 3,
   "id": "7daf48ae",
   "metadata": {},
   "outputs": [
    {
     "name": "stderr",
     "output_type": "stream",
     "text": [
      "/var/folders/hm/xkjzyd4d26l9g8h9y20nxxsc0000gn/T/ipykernel_78681/3390124652.py:38: SettingWithCopyWarning: \n",
      "A value is trying to be set on a copy of a slice from a DataFrame.\n",
      "Try using .loc[row_indexer,col_indexer] = value instead\n",
      "\n",
      "See the caveats in the documentation: https://pandas.pydata.org/pandas-docs/stable/user_guide/indexing.html#returning-a-view-versus-a-copy\n",
      "  dataframe['left_gaze_point_on_display_area'] = dataframe['left_gaze_point_on_display_area'].apply(process_cell)\n",
      "/var/folders/hm/xkjzyd4d26l9g8h9y20nxxsc0000gn/T/ipykernel_78681/3390124652.py:39: SettingWithCopyWarning: \n",
      "A value is trying to be set on a copy of a slice from a DataFrame.\n",
      "Try using .loc[row_indexer,col_indexer] = value instead\n",
      "\n",
      "See the caveats in the documentation: https://pandas.pydata.org/pandas-docs/stable/user_guide/indexing.html#returning-a-view-versus-a-copy\n",
      "  dataframe['left_gaze_point_x'] = dataframe['left_gaze_point_on_display_area'].apply(lambda x: x[0])\n",
      "/var/folders/hm/xkjzyd4d26l9g8h9y20nxxsc0000gn/T/ipykernel_78681/3390124652.py:40: SettingWithCopyWarning: \n",
      "A value is trying to be set on a copy of a slice from a DataFrame.\n",
      "Try using .loc[row_indexer,col_indexer] = value instead\n",
      "\n",
      "See the caveats in the documentation: https://pandas.pydata.org/pandas-docs/stable/user_guide/indexing.html#returning-a-view-versus-a-copy\n",
      "  dataframe['left_gaze_point_y'] = dataframe['left_gaze_point_on_display_area'].apply(lambda x: x[1])\n",
      "/var/folders/hm/xkjzyd4d26l9g8h9y20nxxsc0000gn/T/ipykernel_78681/3390124652.py:42: SettingWithCopyWarning: \n",
      "A value is trying to be set on a copy of a slice from a DataFrame.\n",
      "Try using .loc[row_indexer,col_indexer] = value instead\n",
      "\n",
      "See the caveats in the documentation: https://pandas.pydata.org/pandas-docs/stable/user_guide/indexing.html#returning-a-view-versus-a-copy\n",
      "  dataframe['right_gaze_point_on_display_area'] = dataframe['right_gaze_point_on_display_area'].apply(process_cell)\n",
      "/var/folders/hm/xkjzyd4d26l9g8h9y20nxxsc0000gn/T/ipykernel_78681/3390124652.py:44: SettingWithCopyWarning: \n",
      "A value is trying to be set on a copy of a slice from a DataFrame.\n",
      "Try using .loc[row_indexer,col_indexer] = value instead\n",
      "\n",
      "See the caveats in the documentation: https://pandas.pydata.org/pandas-docs/stable/user_guide/indexing.html#returning-a-view-versus-a-copy\n",
      "  dataframe['right_gaze_point_x'] = dataframe['right_gaze_point_on_display_area'].apply(lambda x: x[0])\n",
      "/var/folders/hm/xkjzyd4d26l9g8h9y20nxxsc0000gn/T/ipykernel_78681/3390124652.py:45: SettingWithCopyWarning: \n",
      "A value is trying to be set on a copy of a slice from a DataFrame.\n",
      "Try using .loc[row_indexer,col_indexer] = value instead\n",
      "\n",
      "See the caveats in the documentation: https://pandas.pydata.org/pandas-docs/stable/user_guide/indexing.html#returning-a-view-versus-a-copy\n",
      "  dataframe['right_gaze_point_y'] = dataframe['right_gaze_point_on_display_area'].apply(lambda x: x[1])\n"
     ]
    },
    {
     "name": "stdout",
     "output_type": "stream",
     "text": [
      "Total Fixation Duration = 49925.999000000535 ms, Number of Fixations = 135\n"
     ]
    }
   ],
   "source": [
    "csv_file_path = 'gaze_data.csv'\n",
    "proccessed_csv_file_path = 'proccessed_gaze_data.csv'\n",
    "gaze_df = pd.read_csv(csv_file_path)\n",
    "prepare_raw_data(gaze_df, proccessed_csv_file_path)\n",
    "event_detecting_smoothing(proccessed_csv_file_path)\n",
    "    \n",
    "fixations = get_fixations(proccessed_csv_file_path)\n",
    "#print(f'List of Fixations (start time, end time, dur, x, y): {fixations}')\n",
    "print(f'Total Fixation Duration = {sum(fix[2] for fix in fixations)} ms, Number of Fixations = {len(fixations)}')"
   ]
  },
  {
   "cell_type": "markdown",
   "id": "589c36b2",
   "metadata": {},
   "source": [
    "# newly added functions"
   ]
  },
  {
   "cell_type": "code",
   "execution_count": 4,
   "id": "98048406",
   "metadata": {},
   "outputs": [],
   "source": [
    "def caluclate_fixation_count_AOI(aoi, fixations):\n",
    "    aoi_x, aoi_y, aoi_w, aoi_h = aoi\n",
    "    counts = 0\n",
    "    for element in fixations:\n",
    "        _, _, _, fix_x, fix_y = element\n",
    "        if aoi_x <= fix_x < aoi_x + aoi_w and aoi_y <= fix_y < aoi_y + aoi_h:\n",
    "            counts = counts + 1\n",
    "    return counts\n",
    "\n",
    "def calculate_fixation_rate_AOI(fixation_counts, num_fixations):\n",
    "    ratios = []\n",
    "    for count in fixation_counts:\n",
    "        ratio = count / num_fixations\n",
    "        ratios.append(ratio)\n",
    "    return ratios\n",
    "\n",
    "def calculate_fixation_spatial_density(cells, fixations):\n",
    "    cell_hit_count = 0\n",
    "    for key, value in cells.items():\n",
    "        cell_x, cell_y, cell_w, cell_h = value\n",
    "        found = 0\n",
    "        for element in fixations:\n",
    "            _, _, _, fix_x, fix_y = element\n",
    "            if cell_x <= fix_x < cell_x + cell_w and cell_y <= fix_y < cell_y + cell_h and found == 0:\n",
    "                cell_hit_count = cell_hit_count + 1\n",
    "                found = 1\n",
    "    return cell_hit_count\n",
    "\n",
    "def calculate_fixation_time(aois, fixations):\n",
    "    aois_fixation_times = []\n",
    "    for key, value in aois.items():\n",
    "        aoi_x, aoi_y, aoi_w, aoi_h = value\n",
    "        fixation_time = 0\n",
    "        for element in fixations:\n",
    "            _, _, duration, fix_x, fix_y = element\n",
    "            if aoi_x <= fix_x < aoi_x + aoi_w and aoi_y <= fix_y < aoi_y + aoi_h:\n",
    "                fixation_time = fixation_time + duration\n",
    "        aois_fixation_times.append(fixation_time)\n",
    "    return aois_fixation_times\n",
    "\n",
    "def calculate_saccades(velocity_threshold, fixations):\n",
    "    saccades = []\n",
    "    for i in range(1, len(fixations)):\n",
    "        start_time_p, end_time_p, _ , fix_x_p, fix_y_p = fixations[i-1]\n",
    "        start_time_c, end_time_c, _ , fix_x_c, fix_y_c = fixations[i] \n",
    "\n",
    "        dx = fix_x_c - fix_x_p\n",
    "        dy = fix_y_c - fix_y_p\n",
    "        duration = start_time_c - end_time_p\n",
    "        velocity = math.sqrt(dx**2 + dy**2) / duration\n",
    "\n",
    "        if velocity >= velocity_threshold:\n",
    "            saccades.append((end_time_p, start_time_c, duration, dx, dy, velocity))\n",
    "    return saccades"
   ]
  },
  {
   "cell_type": "markdown",
   "id": "7371a697",
   "metadata": {},
   "source": [
    "# declaring AOIs and GRIDs"
   ]
  },
  {
   "cell_type": "code",
   "execution_count": 5,
   "id": "0933d35a",
   "metadata": {},
   "outputs": [],
   "source": [
    "# creating AOIs\n",
    "AOIs = {\n",
    "    \"AOI_1\" : [0, 0, 1250, 280],\n",
    "    \"AOI_2\" : [0, 280, 1250, 280],\n",
    "    \"AOI_3\" : [0, 560, 1250, 280],\n",
    "    \"AOI_4\" : [0, 840, 1250, 280],\n",
    "    \"AOI_5\" : [0, 1120, 1250, 280],\n",
    "    \"AOI_6\" : [1250, 0, 1250, 280],\n",
    "    \"AOI_7\" : [1250, 280, 1250, 280],\n",
    "    \"AOI_8\" : [1250, 560, 1250, 280],\n",
    "    \"AOI_9\" : [1250, 840, 2500, 280],\n",
    "    \"AOI_10\" : [1250, 1120, 1250, 280]\n",
    "}\n",
    "\n",
    "# creating grid cells\n",
    "cells = {}\n",
    "cell_counts = 1\n",
    "grid_x = 0\n",
    "grid_width = 250\n",
    "grid_height = 140\n",
    "for row in range(10):\n",
    "    grid_y = 0\n",
    "    for col in range(10):\n",
    "        cell = f'cell_{cell_counts}'\n",
    "        cells[cell] = [grid_x, grid_y, grid_width, grid_height]\n",
    "        grid_y = grid_y + 14\n",
    "        cell_counts = cell_counts + 1\n",
    "    grid_x = grid_x + 25\n",
    "\n",
    "# code starts from here\n",
    "# calculating number of fixations and cells\n",
    "total_fixations = len(fixations)\n",
    "total_cells = len(cells)"
   ]
  },
  {
   "cell_type": "markdown",
   "id": "d9ab701e",
   "metadata": {},
   "source": [
    "# fixation counts"
   ]
  },
  {
   "cell_type": "code",
   "execution_count": 6,
   "id": "2eace2e1",
   "metadata": {},
   "outputs": [
    {
     "name": "stdout",
     "output_type": "stream",
     "text": [
      "Fixation Counts per AOI : \n",
      "For AOI_1 fixation counts : 33\n",
      "For AOI_2 fixation counts : 42\n",
      "For AOI_3 fixation counts : 27\n",
      "For AOI_4 fixation counts : 1\n",
      "For AOI_5 fixation counts : 5\n",
      "For AOI_6 fixation counts : 13\n",
      "For AOI_7 fixation counts : 2\n",
      "For AOI_8 fixation counts : 0\n",
      "For AOI_9 fixation counts : 3\n",
      "For AOI_10 fixation counts : 9\n"
     ]
    }
   ],
   "source": [
    "# calculating fixations counts per AOI\n",
    "print(\"Fixation Counts per AOI : \")\n",
    "fixations_counts_aois = []\n",
    "for key, value in AOIs.items():\n",
    "    fixation_counts = caluclate_fixation_count_AOI(value, fixations)\n",
    "    print(f'For {key} fixation counts : {fixation_counts}')\n",
    "    fixations_counts_aois.append(fixation_counts)"
   ]
  },
  {
   "cell_type": "markdown",
   "id": "ea161481",
   "metadata": {},
   "source": [
    "# fixation rates"
   ]
  },
  {
   "cell_type": "code",
   "execution_count": 7,
   "id": "c221ab05",
   "metadata": {},
   "outputs": [
    {
     "name": "stdout",
     "output_type": "stream",
     "text": [
      "Fixation Rates per AOI : \n",
      "For AOI_1 fixation rates : 0.24444444444444444\n",
      "For AOI_2 fixation rates : 0.3111111111111111\n",
      "For AOI_3 fixation rates : 0.2\n",
      "For AOI_4 fixation rates : 0.007407407407407408\n",
      "For AOI_5 fixation rates : 0.037037037037037035\n",
      "For AOI_6 fixation rates : 0.0962962962962963\n",
      "For AOI_7 fixation rates : 0.014814814814814815\n",
      "For AOI_8 fixation rates : 0.0\n",
      "For AOI_9 fixation rates : 0.022222222222222223\n",
      "For AOI_10 fixation rates : 0.06666666666666667\n"
     ]
    }
   ],
   "source": [
    "print(\"Fixation Rates per AOI : \")\n",
    "fixation_rates = calculate_fixation_rate_AOI(fixations_counts_aois, total_fixations)\n",
    "for index, data in enumerate(AOIs.items()):\n",
    "    key, _ = data\n",
    "    print(f'For {key} fixation rates : {fixation_rates[index]}')"
   ]
  },
  {
   "cell_type": "markdown",
   "id": "d54dabfa",
   "metadata": {},
   "source": [
    "# Fixation Spatial Density"
   ]
  },
  {
   "cell_type": "code",
   "execution_count": 8,
   "id": "782771ca",
   "metadata": {},
   "outputs": [
    {
     "name": "stdout",
     "output_type": "stream",
     "text": [
      "Fixation Spatial Density  : \n",
      "Fixation Spatial Density : 0.96\n"
     ]
    }
   ],
   "source": [
    "print(\"Fixation Spatial Density  : \")\n",
    "fixation_spatial_density = calculate_fixation_spatial_density(cells, fixations) / total_cells\n",
    "print(f\"Fixation Spatial Density : {fixation_spatial_density}\")"
   ]
  },
  {
   "cell_type": "markdown",
   "id": "1a199069",
   "metadata": {},
   "source": [
    "# average fixation duration"
   ]
  },
  {
   "cell_type": "code",
   "execution_count": 9,
   "id": "142707c9",
   "metadata": {},
   "outputs": [
    {
     "name": "stdout",
     "output_type": "stream",
     "text": [
      "Average Fixation Duration  : \n",
      "Average Fixation Duration  : 369.8222148148188\n"
     ]
    }
   ],
   "source": [
    "print(\"Average Fixation Duration  : \")\n",
    "total_fixation_duration = sum(fix[2] for fix in fixations)\n",
    "average_fixation_duration = total_fixation_duration / total_fixations\n",
    "print(f\"Average Fixation Duration  : {average_fixation_duration}\")"
   ]
  },
  {
   "cell_type": "markdown",
   "id": "06a17ee3",
   "metadata": {},
   "source": [
    "# fixations times"
   ]
  },
  {
   "cell_type": "code",
   "execution_count": 10,
   "id": "6d24b6e0",
   "metadata": {},
   "outputs": [],
   "source": [
    "fixation_times = calculate_fixation_time(AOIs, fixations)"
   ]
  },
  {
   "cell_type": "code",
   "execution_count": 11,
   "id": "6ec1f737",
   "metadata": {},
   "outputs": [
    {
     "name": "stdout",
     "output_type": "stream",
     "text": [
      "Fixation times per AOI  : \n",
      "For AOI_1 fixation time : 11725.218000000226 ms\n",
      "For AOI_2 fixation time : 18600.37700000021 ms\n",
      "For AOI_3 fixation time : 11791.896999999764 ms\n",
      "For AOI_4 fixation time : 183.33200000005309 ms\n",
      "For AOI_5 fixation time : 1733.375 ms\n",
      "For AOI_6 fixation time : 2825.05700000003 ms\n",
      "For AOI_7 fixation time : 275.0030000000261 ms\n",
      "For AOI_8 fixation time : 0 ms\n",
      "For AOI_9 fixation time : 300.00800000003073 ms\n",
      "For AOI_10 fixation time : 2491.732000000193 ms\n"
     ]
    }
   ],
   "source": [
    "# printing fixation time per AOI\n",
    "print(\"Fixation times per AOI  : \")\n",
    "for index, data in enumerate(AOIs.items()):\n",
    "    key, value = data\n",
    "    fixation_time = fixation_times[index]\n",
    "    print(f'For {key} fixation time : {fixation_time} ms')"
   ]
  },
  {
   "cell_type": "markdown",
   "id": "fd903d12",
   "metadata": {},
   "source": [
    "# Ratio of ON-target:All-target Fixation Time (ROAFT) per AOI "
   ]
  },
  {
   "cell_type": "code",
   "execution_count": 12,
   "id": "e46c3fb0",
   "metadata": {},
   "outputs": [
    {
     "name": "stdout",
     "output_type": "stream",
     "text": [
      "Ratio of ON-target:All-target Fixation Time (ROAFT) per AOI : \n",
      "For AOI_1 ROAFT : 0.23485194557649414\n",
      "For AOI_2 ROAFT : 0.3725589346744972\n",
      "For AOI_3 ROAFT : 0.23618750222703883\n",
      "For AOI_4 ROAFT : 0.0036720747440637316\n",
      "For AOI_5 ROAFT : 0.034718884643649923\n",
      "For AOI_6 ROAFT : 0.056584886764108604\n",
      "For AOI_7 ROAFT : 0.005508212264315896\n",
      "For AOI_8 ROAFT : 0.0\n",
      "For AOI_9 ROAFT : 0.006009053519390318\n",
      "For AOI_10 ROAFT : 0.049908505586441367\n"
     ]
    }
   ],
   "source": [
    "print(\"Ratio of ON-target:All-target Fixation Time (ROAFT) per AOI : \")\n",
    "for index, data in enumerate(AOIs.items()):\n",
    "    key, value = data\n",
    "    fixation_time = fixation_times[index]\n",
    "    roaft = fixation_time / total_fixation_duration\n",
    "    print(f'For {key} ROAFT : {roaft}')"
   ]
  },
  {
   "cell_type": "markdown",
   "id": "45ec8c72",
   "metadata": {},
   "source": [
    "# Average Duration of Relevant Fixations (ADRF) based on fixation count or time\n"
   ]
  },
  {
   "cell_type": "markdown",
   "id": "480fbaac",
   "metadata": {},
   "source": [
    "### based on fixation time"
   ]
  },
  {
   "cell_type": "code",
   "execution_count": 13,
   "id": "df20b1a9",
   "metadata": {},
   "outputs": [
    {
     "name": "stdout",
     "output_type": "stream",
     "text": [
      "Average Duration of Relevant Fixations (ADRF) : 9486.856200000086 ms\n"
     ]
    }
   ],
   "source": [
    "relevent_aois = []\n",
    "fixation_time_threshold = 2000 \n",
    "for index, data in enumerate(AOIs.items()):\n",
    "    if fixation_times[index] > fixation_time_threshold:\n",
    "        relevent_aois.append(index)\n",
    "\n",
    "relevent_aios_fixation_time = 0\n",
    "for index in relevent_aois:\n",
    "    relevent_aios_fixation_time = relevent_aios_fixation_time + fixation_times[index]\n",
    "average_duration_of_relevant_fixations = relevent_aios_fixation_time / len(relevent_aois)\n",
    "print(f\"Average Duration of Relevant Fixations (ADRF) : {average_duration_of_relevant_fixations} ms\")"
   ]
  },
  {
   "cell_type": "markdown",
   "id": "5c99ac7b",
   "metadata": {},
   "source": [
    "### based on fixation count"
   ]
  },
  {
   "cell_type": "code",
   "execution_count": 14,
   "id": "030116ec",
   "metadata": {},
   "outputs": [
    {
     "name": "stdout",
     "output_type": "stream",
     "text": [
      "Average Duration of Relevant Fixations (ADRF) : 11235.637250000058 ms\n"
     ]
    }
   ],
   "source": [
    "relevent_aois = []\n",
    "fixation_count_threshold = 10\n",
    "for index, data in enumerate(AOIs.items()):\n",
    "    if fixations_counts_aois[index] > fixation_count_threshold:\n",
    "        relevent_aois.append(index)\n",
    "\n",
    "relevent_aios_fixation_time = 0\n",
    "for index in relevent_aois:\n",
    "    relevent_aios_fixation_time = relevent_aios_fixation_time + fixation_times[index]\n",
    "average_duration_of_relevant_fixations = relevent_aios_fixation_time / len(relevent_aois)\n",
    "print(f\"Average Duration of Relevant Fixations (ADRF) : {average_duration_of_relevant_fixations} ms\")"
   ]
  },
  {
   "cell_type": "markdown",
   "id": "feb72693",
   "metadata": {},
   "source": [
    "# Normalised Rate of Relevant Fixations (NRRF)"
   ]
  },
  {
   "cell_type": "code",
   "execution_count": 15,
   "id": "1b82eb73",
   "metadata": {},
   "outputs": [
    {
     "name": "stdout",
     "output_type": "stream",
     "text": [
      "Normalised Rate of Relevant Fixations (NRRF) : 2.2504581731053466\n"
     ]
    }
   ],
   "source": [
    "normalized_rate_of_relevant_fixations = average_duration_of_relevant_fixations / (total_fixation_duration/len(AOIs))\n",
    "print(f\"Normalised Rate of Relevant Fixations (NRRF) : {normalized_rate_of_relevant_fixations}\")"
   ]
  },
  {
   "cell_type": "markdown",
   "id": "bba4ee6c",
   "metadata": {},
   "source": [
    "# saccade related metrices"
   ]
  },
  {
   "cell_type": "markdown",
   "id": "61c45e61",
   "metadata": {},
   "source": [
    "### number of saccades"
   ]
  },
  {
   "cell_type": "code",
   "execution_count": 16,
   "id": "4aab9c43",
   "metadata": {},
   "outputs": [
    {
     "name": "stdout",
     "output_type": "stream",
     "text": [
      "Number of Saccades : 32\n"
     ]
    }
   ],
   "source": [
    "velocity_threshold = 10\n",
    "saccades = calculate_saccades(velocity_threshold, fixations)\n",
    "number_of_saccades = len(saccades)\n",
    "print(f'Number of Saccades : {number_of_saccades}')"
   ]
  },
  {
   "cell_type": "markdown",
   "id": "61735c8a",
   "metadata": {},
   "source": [
    "### saccade duration"
   ]
  },
  {
   "cell_type": "code",
   "execution_count": 17,
   "id": "64e2d3cc",
   "metadata": {},
   "outputs": [
    {
     "name": "stdout",
     "output_type": "stream",
     "text": [
      "Total Saccades durations : 2216.719000000041 ms\n"
     ]
    }
   ],
   "source": [
    "saccades_duration = sum(sample[2] for sample in saccades)\n",
    "print(f'Total Saccades durations : {saccades_duration} ms')"
   ]
  },
  {
   "cell_type": "markdown",
   "id": "e63e82f9",
   "metadata": {},
   "source": [
    "### average saccade duration"
   ]
  },
  {
   "cell_type": "code",
   "execution_count": 18,
   "id": "1f5ba2da",
   "metadata": {},
   "outputs": [
    {
     "name": "stdout",
     "output_type": "stream",
     "text": [
      "Average Saccade Duration : 69.27246875000128 ms\n"
     ]
    }
   ],
   "source": [
    "average_saccades_duration = saccades_duration / number_of_saccades\n",
    "print(f'Average Saccade Duration : {average_saccades_duration} ms')"
   ]
  },
  {
   "cell_type": "markdown",
   "id": "21ba5030",
   "metadata": {},
   "source": [
    "### backward saccades"
   ]
  },
  {
   "cell_type": "code",
   "execution_count": 19,
   "id": "646c0785",
   "metadata": {},
   "outputs": [
    {
     "name": "stdout",
     "output_type": "stream",
     "text": [
      "Total Number of Backward Saccades : 27\n"
     ]
    }
   ],
   "source": [
    "backward_saccades = len([i for i in range(len(saccades)) if saccades[i][3] < 0 or saccades[i][4] < 0])\n",
    "print(f'Total Number of Backward Saccades : {backward_saccades}')"
   ]
  },
  {
   "cell_type": "markdown",
   "id": "baf60be3",
   "metadata": {},
   "source": [
    "### Regression Rate"
   ]
  },
  {
   "cell_type": "code",
   "execution_count": 20,
   "id": "35b3d279",
   "metadata": {},
   "outputs": [
    {
     "name": "stdout",
     "output_type": "stream",
     "text": [
      "Regrassion Rate : 0.84375\n"
     ]
    }
   ],
   "source": [
    "regression_rate = backward_saccades / number_of_saccades\n",
    "print(f'Regrassion Rate : {regression_rate}')"
   ]
  },
  {
   "cell_type": "markdown",
   "id": "c4197eb0",
   "metadata": {},
   "source": [
    "# Fixation Plot"
   ]
  },
  {
   "cell_type": "code",
   "execution_count": 22,
   "id": "20ebcd9e",
   "metadata": {},
   "outputs": [
    {
     "data": {
      "image/png": "[encoded data removed]",
      "text/plain": [
       "<Figure size 640x480 with 1 Axes>"
      ]
     },
     "metadata": {},
     "output_type": "display_data"
    }
   ],
   "source": [
    "def generate_fixation_plot(image_path, fixations):\n",
    "    img = Image.open(image_path)\n",
    "    img = img.resize((2500, 1400), Image.LANCZOS)\n",
    "\n",
    "    plt.imshow(img)\n",
    "    ax = plt.gca()\n",
    "\n",
    "    # Plot each fixation\n",
    "    for idx, data in enumerate(fixations):\n",
    "        _, _, duration, x, y = data\n",
    "        circle = plt.Circle((x, y), duration/20, color='cyan', fill = True)  # Adjust circle size factor as needed\n",
    "        ax.add_patch(circle)\n",
    "        ax.text(x, y, str(idx + 1), color='blue', fontsize=4, ha='center', va='center')\n",
    "\n",
    "        # Show the plot\n",
    "    plt.axis('off')  # To turn off the axis\n",
    "    plt.savefig('fixations.png',dpi=300)\n",
    "\n",
    "# plot the fixations on the given image , save the overlayed image and show it     \n",
    "image_path = 'Big Screen.png'\n",
    "generate_fixation_plot(image_path, fixations)\n",
    "image = Image.open('fixations.png')\n",
    "image.show()"
   ]
  },
  {
   "cell_type": "markdown",
   "id": "1cf6d6c3",
   "metadata": {},
   "source": [
    "# scanpath plot"
   ]
  },
  {
   "cell_type": "code",
   "execution_count": 23,
   "id": "efa162c0",
   "metadata": {},
   "outputs": [
    {
     "data": {
      "image/png": "[encoded data removed]",
      "text/plain": [
       "<Figure size 640x480 with 1 Axes>"
      ]
     },
     "metadata": {},
     "output_type": "display_data"
    }
   ],
   "source": [
    "def generate_scanpath_plot(image_path, fixations):\n",
    "    img = Image.open(image_path)\n",
    "    img = img.resize((2500, 1400), Image.LANCZOS)\n",
    "\n",
    "    plt.imshow(img)\n",
    "    ax = plt.gca()\n",
    "\n",
    "    # Plot the scan path (lines connecting fixation points)\n",
    "    for i in range(len(fixations)-1):\n",
    "        _, _, _, x1, y1 = fixations[i]\n",
    "        _, _, _, x2, y2 = fixations[i+1]\n",
    "        ax.plot([x1, x2], [y1, y2], color='green', linewidth=0.3) \n",
    "\n",
    "    # Plot each fixation\n",
    "    for idx, data in enumerate(fixations):\n",
    "        _, _, duration, x, y = data\n",
    "        circle = plt.Circle((x, y), duration/20, color='cyan', fill = True)  # Adjust circle size factor as needed\n",
    "        ax.add_patch(circle)\n",
    "        ax.text(x, y, str(idx + 1), color='blue', fontsize=4, ha='center', va='center')\n",
    "\n",
    "        # Show the plot\n",
    "    plt.axis('off')  # To turn off the axis\n",
    "    plt.savefig('scanpath.png',dpi=300)\n",
    "\n",
    "# plot the scanpaths on the given image , save the overlayed image and show it     \n",
    "image_path = 'Big Screen.png'\n",
    "generate_scanpath_plot(image_path, fixations)\n",
    "image = Image.open('scanpath.png')\n",
    "image.show()"
   ]
  },
  {
   "cell_type": "code",
   "execution_count": null,
   "id": "5ad115af",
   "metadata": {},
   "outputs": [],
   "source": []
  }
 ],
 "metadata": {
  "kernelspec": {
   "display_name": "Python 3 (ipykernel)",
   "language": "python",
   "name": "python3"
  },
  "language_info": {
   "codemirror_mode": {
    "name": "ipython",
    "version": 3
   },
   "file_extension": ".py",
   "mimetype": "text/x-python",
   "name": "python",
   "nbconvert_exporter": "python",
   "pygments_lexer": "ipython3",
   "version": "3.11.5"
  }
 },
 "nbformat": 4,
 "nbformat_minor": 5
}
